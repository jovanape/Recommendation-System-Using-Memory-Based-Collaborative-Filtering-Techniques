{
 "cells": [
  {
   "cell_type": "code",
   "execution_count": 2,
   "id": "4c6fede0",
   "metadata": {},
   "outputs": [],
   "source": [
    "import numpy as np\n",
    "import pandas as pd\n",
    "import os\n",
    "#import matplotlib.pyplot as plt\n",
    "from matplotlib import pyplot as plt\n",
    "%matplotlib inline\n",
    "from sklearn.metrics.pairwise import cosine_similarity\n",
    "from sklearn.model_selection import train_test_split\n",
    "from scipy import sparse as sps\n",
    "from sklearn.metrics import mean_squared_error\n",
    "from ast import literal_eval\n",
    "from scipy.sparse.linalg import svds\n",
    "import statistics\n",
    "from math import sqrt\n",
    "from scipy import sparse"
   ]
  },
  {
   "cell_type": "code",
   "execution_count": null,
   "id": "6e7a8f40",
   "metadata": {},
   "outputs": [],
   "source": [
    "data_path = 'datasets/'\n",
    "ratings_filename = 'ratings.csv'\n",
    "\n",
    "ratings_df = pd.read_csv(os.path.join(data_path, ratings_filename), usecols=['userId', 'movieId', 'rating'], dtype={'userId': 'int32', 'movieId': 'int32', 'rating': 'float32'})\n",
    "ratings_df.head()"
   ]
  },
  {
   "cell_type": "code",
   "execution_count": null,
   "id": "008dc659",
   "metadata": {},
   "outputs": [],
   "source": [
    "ratings_pivot_df = ratings_df.pivot(index='userId',columns='movieId',values='rating')\n",
    "ratings_pivot_df.head()"
   ]
  },
  {
   "cell_type": "code",
   "execution_count": 3,
   "id": "97f78408",
   "metadata": {},
   "outputs": [
    {
     "ename": "NameError",
     "evalue": "name 'ratings_pivot_df' is not defined",
     "output_type": "error",
     "traceback": [
      "\u001b[1;31m---------------------------------------------------------------------------\u001b[0m",
      "\u001b[1;31mNameError\u001b[0m                                 Traceback (most recent call last)",
      "\u001b[1;32m<ipython-input-3-a076f538b199>\u001b[0m in \u001b[0;36m<module>\u001b[1;34m\u001b[0m\n\u001b[1;32m----> 1\u001b[1;33m \u001b[0mpivot_ratings\u001b[0m \u001b[1;33m=\u001b[0m \u001b[0mratings_pivot_df\u001b[0m\u001b[1;33m.\u001b[0m\u001b[0mfillna\u001b[0m\u001b[1;33m(\u001b[0m\u001b[1;36m0\u001b[0m\u001b[1;33m)\u001b[0m\u001b[1;33m\u001b[0m\u001b[1;33m\u001b[0m\u001b[0m\n\u001b[0m\u001b[0;32m      2\u001b[0m \u001b[0mpivot_ratings\u001b[0m\u001b[1;33m.\u001b[0m\u001b[0mhead\u001b[0m\u001b[1;33m(\u001b[0m\u001b[1;33m)\u001b[0m\u001b[1;33m\u001b[0m\u001b[1;33m\u001b[0m\u001b[0m\n",
      "\u001b[1;31mNameError\u001b[0m: name 'ratings_pivot_df' is not defined"
     ]
    }
   ],
   "source": [
    "pivot_ratings = ratings_pivot_df.fillna(0)\n",
    "pivot_ratings.head()"
   ]
  },
  {
   "cell_type": "code",
   "execution_count": null,
   "id": "f68daf10",
   "metadata": {},
   "outputs": [],
   "source": [
    "pivot_ratings.shape # poklapa se sa brojem jedinstvenih korisnika odnosno filmova"
   ]
  },
  {
   "cell_type": "code",
   "execution_count": null,
   "id": "dcbdbd91",
   "metadata": {},
   "outputs": [],
   "source": [
    "ratings_csr_matrix = sps.csr_matrix(pivot_ratings)\n",
    "print(ratings_csr_matrix.todense()) #toarray returns an ndarray; todense returns a matrix."
   ]
  },
  {
   "cell_type": "code",
   "execution_count": null,
   "id": "e755951f",
   "metadata": {},
   "outputs": [],
   "source": [
    "ratings_csr_matrix.shape"
   ]
  },
  {
   "cell_type": "code",
   "execution_count": null,
   "id": "ee411353",
   "metadata": {},
   "outputs": [],
   "source": [
    "plt.spy(ratings_csr_matrix.toarray())\n",
    "#plt.axis('equal')\n",
    "plt.xlim(0, 9724)\n",
    "plt.ylim(0, 3000)\n",
    "plt.show()"
   ]
  },
  {
   "cell_type": "code",
   "execution_count": 4,
   "id": "7e97ef61",
   "metadata": {},
   "outputs": [],
   "source": [
    "def CosineSimilarity(docVector1, docVector2):\n",
    "    dotProduct = 0.0\n",
    "    magnitude1 = 0.0\n",
    "    magnitude2 = 0.0\n",
    "    cosineSimilarity = 0.0\n",
    "\n",
    "    for i in range(0, len(docVector1) - 1):\n",
    "        dotProduct += docVector1[i] * docVector2[i]\n",
    "        magnitude1 += np.power(docVector1[i], 2)\n",
    "        magnitude2 += np.power(docVector2[i], 2)\n",
    "    \n",
    "    magnitude1 = np.sqrt(magnitude1)\n",
    "    magnitude2 = np.sqrt(magnitude2)\n",
    "\n",
    "    if(magnitude1 != 0.0 and magnitude2 != 0.0):\n",
    "        cosineSimilarity = dotProduct / (magnitude1 * magnitude2)\n",
    "\n",
    "    return(str(cosineSimilarity))"
   ]
  },
  {
   "cell_type": "code",
   "execution_count": null,
   "id": "22b22fee",
   "metadata": {},
   "outputs": [],
   "source": []
  },
  {
   "cell_type": "code",
   "execution_count": null,
   "id": "f2b6695d",
   "metadata": {},
   "outputs": [],
   "source": [
    "def JaccardSimilarity(docVector1, docVector2):\n",
    "    dotProduct = 0.0\n",
    "    magnitude1 = 0.0\n",
    "    magnitude2 = 0.0\n",
    "    jaccardSimilarity = 0.0\n",
    "\n",
    "    for i in range(0, len(docVector1) - 1):\n",
    "        dotProduct += docVector1[i] * docVector2[i]\n",
    "        magnitude1 += np.power(docVector1[i], 2)\n",
    "        magnitude2 += np.power(docVector2[i], 2)\n",
    "\n",
    "    if(magnitude1 != 0.0 and magnitude2 != 0.0):\n",
    "        jaccardSimilarity = dotProduct / (magnitude1 + magnitude2 - dotProduct)\n",
    "\n",
    "    return(str(jaccardSimilarity))"
   ]
  },
  {
   "cell_type": "code",
   "execution_count": 5,
   "id": "d25c9295",
   "metadata": {},
   "outputs": [],
   "source": [
    "# Korigovana f-ja\n",
    "def user_based_ratings_prediction_prim(u, i, users_similarity, ratings, k = 5):\n",
    "    \n",
    "    neighbors = []\n",
    "    similarities = list(zip(users_similarity[u][:], range(users_similarity.shape[0])))  # broj korisnika\n",
    "\n",
    "    similarities_sorted = sort_descending(similarities)\n",
    "\n",
    "    # indeksi k najslicnijih\n",
    "    for i in range(1, k + 1):\n",
    "        neighbors.append(similarities_sorted[i][1])\n",
    "    print (\"neighbors: \", neighbors)\n",
    "\n",
    "    rated_by_u = ratings[u].nonzero()[0]\n",
    "    print(\"Ocenio korisnik u: \", rated_by_u)\n",
    "    \n",
    "    user_u_mean = 0\n",
    "    user_u_mean = np.sum(ratings[u])\n",
    "        \n",
    "    if len(rated_by_u) != 0:\n",
    "        user_u_mean = user_u_mean / len(rated_by_u) # prosecna ocena u-tog korisnika\n",
    "        \n",
    "    print(\"user_u_mean \", user_u_mean)\n",
    "    \n",
    "    \n",
    "    numerator, denominator = 0.0, 0.0\n",
    "\n",
    "    for v in neighbors:\n",
    "        rated_by_v = ratings[v].nonzero()[0]\n",
    "        user_v_mean = 0\n",
    "        user_v_mean = np.sum(ratings[v])\n",
    "        print(\"v \", v)\n",
    "        print(\"user_v_mean \", user_v_mean)\n",
    "        \n",
    "        if len(rated_by_v) != 0:\n",
    "            #for i in rated_by_v:\n",
    "             #   user_v_mean += ratings[v, i]\n",
    "            \n",
    "            user_v_mean = user_v_mean / len(rated_by_v)\n",
    "        \n",
    "        r_vi = ratings[v,i]\n",
    "        numerator += float((users_similarity[u][v]))*float((r_vi - user_v_mean))\n",
    "        denominator += float(users_similarity[u][v])\n",
    "    \n",
    "    print(\"konacno \", user_u_mean + numerator/denominator)  \n",
    "        \n",
    "    return user_u_mean + numerator/denominator"
   ]
  },
  {
   "cell_type": "code",
   "execution_count": 6,
   "id": "a5ca4d33",
   "metadata": {},
   "outputs": [],
   "source": [
    "def user_based_ratings_prediction_prim(u, i, users_similarity, ratings, k = 5):\n",
    "    \n",
    "    neighbors = []\n",
    "    similarities = list(zip(users_similarity[u][:], range(users_similarity.shape[0])))  # broj korisnika\n",
    "\n",
    "    similarities_sorted = sort_descending(similarities)\n",
    "\n",
    "    # indeksi k najslicnijih\n",
    "    for i in range(1, k + 1):\n",
    "        neighbors.append(similarities_sorted[i][1])\n",
    "    print (\"neighbors: \", neighbors)\n",
    "\n",
    "    rated_by_u = ratings[u].nonzero()[0]\n",
    "    print(\"Ocenio korisnik u: \", rated_by_u)\n",
    "    \n",
    "    user_u_mean = 0\n",
    "    user_u_mean = np.sum(ratings[u])\n",
    "        \n",
    "    if len(rated_by_u) != 0:\n",
    "        user_u_mean = user_u_mean / len(rated_by_u) # prosecna ocena u-tog korisnika\n",
    "        \n",
    "    print(\"user_u_mean \", user_u_mean)\n",
    "    \n",
    "    \n",
    "    numerator, denominator = 0.0, 0.0\n",
    "\n",
    "    for v in neighbors:\n",
    "        rated_by_v = ratings[v].nonzero()[0]\n",
    "        user_v_mean = 0\n",
    "        user_v_mean = np.sum(ratings[v])\n",
    "        print(\"v \", v)\n",
    "        print(\"user_v_mean \", user_v_mean)\n",
    "        \n",
    "        if len(rated_by_v) != 0:\n",
    "            #for i in rated_by_v:\n",
    "             #   user_v_mean += ratings[v, i]\n",
    "            \n",
    "            user_v_mean = user_v_mean / len(rated_by_v)\n",
    "        \n",
    "        r_vi = ratings[v,i]\n",
    "        numerator += float((users_similarity[u][v]))*float((r_vi - user_v_mean))\n",
    "        denominator += float(users_similarity[u][v])\n",
    "    \n",
    "    print(\"konacno \", user_u_mean + numerator/denominator)  \n",
    "        \n",
    "    return user_u_mean + numerator/denominator"
   ]
  },
  {
   "cell_type": "code",
   "execution_count": null,
   "id": "2ed8d1ed",
   "metadata": {},
   "outputs": [],
   "source": []
  },
  {
   "cell_type": "code",
   "execution_count": null,
   "id": "a0fc3ff7",
   "metadata": {},
   "outputs": [],
   "source": [
    "xy = ratings_csr_matrix\n",
    "xy = xy.toarray()\n",
    "xy"
   ]
  },
  {
   "cell_type": "code",
   "execution_count": null,
   "id": "25d3de6e",
   "metadata": {},
   "outputs": [],
   "source": [
    "# Jaccard\n",
    "xy_filtered_matrix_2 = []\n",
    "for y in xy:\n",
    "    sum = 0\n",
    "    nz = np.count_nonzero(y)\n",
    "    if (nz > 1000):\n",
    "        xy_filtered_matrix_2.append(y)\n",
    "arr_shape_2 = np.vstack(xy_filtered_matrix_2).shape\n",
    "filtered_arr_2 = np.vstack(xy_filtered_matrix_2)\n",
    "\n",
    "cos_matrix_2 = []\n",
    "for i in filtered_arr_2:\n",
    "    a = []\n",
    "    for j in filtered_arr_2:\n",
    "        cos_sim = JaccardSimilarity(i, j)\n",
    "        #print(cos_sim)\n",
    "        a.append(float(cos_sim))\n",
    "    cos_matrix_2.append(a)\n",
    "\n",
    "arr2 = np.array(cos_matrix_2)\n",
    "arr2.reshape( (12,12) )\n",
    "type(arr2)"
   ]
  },
  {
   "cell_type": "code",
   "execution_count": null,
   "id": "25dcaba7",
   "metadata": {},
   "outputs": [],
   "source": [
    "user_based_ratings_prediction_prim(2, 1, arr2, filtered_arr_2, 5)"
   ]
  },
  {
   "cell_type": "code",
   "execution_count": null,
   "id": "4f478406",
   "metadata": {},
   "outputs": [],
   "source": [
    "# Cosine\n",
    "xy_filtered_matrix = []\n",
    "for y in xy:\n",
    "    sum = 0\n",
    "    nz = np.count_nonzero(y)\n",
    "    if (nz > 1000):\n",
    "        xy_filtered_matrix.append(y)\n",
    "arr_shape = np.vstack(xy_filtered_matrix).shape\n",
    "filtered_arr = np.vstack(xy_filtered_matrix)\n",
    "\n",
    "cos_matrix = []\n",
    "for i in filtered_arr:\n",
    "    a = []\n",
    "    for j in filtered_arr:\n",
    "        cos_sim = CosineSimilarity(i, j)\n",
    "        #print(cos_sim)\n",
    "        a.append(float(cos_sim))\n",
    "    cos_matrix.append(a)\n",
    "\n",
    "arr = np.array(cos_matrix)\n",
    "arr.reshape( (12,12) )\n",
    "type(arr)"
   ]
  },
  {
   "cell_type": "code",
   "execution_count": null,
   "id": "1d51a3b3",
   "metadata": {},
   "outputs": [],
   "source": [
    "user_based_ratings_prediction_prim(2, 1, arr, filtered_arr, 5)"
   ]
  },
  {
   "cell_type": "code",
   "execution_count": null,
   "id": "aa4a2fc7",
   "metadata": {},
   "outputs": [],
   "source": [
    "def get_prediction_prim (ratings, users_similarity, cf_type, k = 5):\n",
    "    predictions = np.zeros(ratings.shape)\n",
    "    \n",
    "    if cf_type == 'user':\n",
    "        \n",
    "        for u in range(ratings.shape[0]):\n",
    "            for i in range(ratings.shape[1]):\n",
    "                predictions[u,i] = user_based_ratings_prediction_prim(u, i, users_similarity, ratings, k = 5)\n",
    "                \n",
    "    elif cf_type == 'item':\n",
    "        \n",
    "        for u in range(ratings.shape[0]):\n",
    "            for i in range(ratings.shape[1]):\n",
    "                predictions[u,i] = item_based_ratings_prediction(u, i, users_similarity, ratings, k)\n",
    "                \n",
    "    else:\n",
    "        print(\"Greska! Tip mora biti user ili item.\")\n",
    "        return\n",
    "\n",
    "    return predictions"
   ]
  },
  {
   "cell_type": "code",
   "execution_count": null,
   "id": "eddc17f9",
   "metadata": {},
   "outputs": [],
   "source": []
  },
  {
   "cell_type": "code",
   "execution_count": null,
   "id": "cc639741",
   "metadata": {},
   "outputs": [],
   "source": [
    "predictions = get_prediction_prim(filtered_arr, arr, 'user', 5)"
   ]
  },
  {
   "cell_type": "code",
   "execution_count": null,
   "id": "504e6424",
   "metadata": {},
   "outputs": [],
   "source": [
    "predictions"
   ]
  },
  {
   "cell_type": "code",
   "execution_count": null,
   "id": "93f2a43a",
   "metadata": {},
   "outputs": [],
   "source": [
    "xy = train_and_validation\n",
    "xy = xy.toarray()\n",
    "xy_filtered_matrix = []\n",
    "for y in xy:\n",
    "    sum = 0\n",
    "    nz = np.count_nonzero(y)\n",
    "    if (nz > 1000):\n",
    "        xy_filtered_matrix.append(y)\n",
    "\n",
    "#train_and_validation.toarray()\n",
    "arr_shape = np.vstack(xy_filtered_matrix).shape\n",
    "arr_shape\n",
    "filtered_arr = np.vstack(xy_filtered_matrix)\n",
    "\n",
    "\n",
    "#cos_matrix_train_and_validation = []\n",
    "#for i in filtered_train_and_validation_arr:\n",
    "#    a = []\n",
    "#    for j in filtered_arr:\n",
    "#        cos_sim = CosineSimilarity(i, j)\n",
    "#        a.append(cos_sim)\n",
    "#    cos_matrix_train_and_validation.append(a)\n",
    "    \n",
    "#arr = np.array(cos_matrix_train_and_validation)\n",
    "#arr.reshape( (12,12) )\n",
    "#type(arr)"
   ]
  },
  {
   "cell_type": "code",
   "execution_count": null,
   "id": "736b32e2",
   "metadata": {},
   "outputs": [],
   "source": []
  },
  {
   "cell_type": "code",
   "execution_count": null,
   "id": "da9aed59",
   "metadata": {},
   "outputs": [],
   "source": [
    "xy = train_and_validation\n",
    "xy = xy.toarray()\n",
    "xy_filtered_matrix = []\n",
    "for y in xy:\n",
    "    sum = 0\n",
    "    nz = np.count_nonzero(y)\n",
    "    if (nz > 1000):\n",
    "        xy_filtered_matrix.append(y)\n",
    "\n",
    "#train_and_validation.toarray()\n",
    "arr_shape = np.vstack(xy_filtered_matrix).shape\n",
    "arr_shape\n",
    "filtered_arr = np.vstack(xy_filtered_matrix)\n",
    "\n",
    "\n",
    "#cos_matrix_train_and_validation = []\n",
    "#for i in filtered_train_and_validation_arr:\n",
    "#    a = []\n",
    "#    for j in filtered_arr:\n",
    "#        cos_sim = CosineSimilarity(i, j)\n",
    "#        a.append(cos_sim)\n",
    "#    cos_matrix_train_and_validation.append(a)\n",
    "    \n",
    "#arr = np.array(cos_matrix_train_and_validation)\n",
    "#arr.reshape( (12,12) )\n",
    "#type(arr)"
   ]
  },
  {
   "cell_type": "code",
   "execution_count": 7,
   "id": "cb81ed6c",
   "metadata": {},
   "outputs": [
    {
     "ename": "NameError",
     "evalue": "name 'selection' is not defined",
     "output_type": "error",
     "traceback": [
      "\u001b[1;31m---------------------------------------------------------------------------\u001b[0m",
      "\u001b[1;31mNameError\u001b[0m                                 Traceback (most recent call last)",
      "\u001b[1;32m<ipython-input-7-f6522e4bd771>\u001b[0m in \u001b[0;36m<module>\u001b[1;34m\u001b[0m\n\u001b[1;32m----> 1\u001b[1;33m \u001b[0merrors_user\u001b[0m\u001b[1;33m,\u001b[0m \u001b[0mpredictions_user\u001b[0m \u001b[1;33m=\u001b[0m \u001b[0mselection\u001b[0m\u001b[1;33m(\u001b[0m\u001b[0mtrain_and_validation\u001b[0m\u001b[1;33m,\u001b[0m \u001b[0mk_values\u001b[0m\u001b[1;33m,\u001b[0m \u001b[1;34m'user'\u001b[0m\u001b[1;33m)\u001b[0m\u001b[1;33m\u001b[0m\u001b[1;33m\u001b[0m\u001b[0m\n\u001b[0m",
      "\u001b[1;31mNameError\u001b[0m: name 'selection' is not defined"
     ]
    }
   ],
   "source": [
    "errors_user, predictions_user = selection(train_and_validation, k_values, 'user')"
   ]
  },
  {
   "cell_type": "code",
   "execution_count": null,
   "id": "35531a9e",
   "metadata": {},
   "outputs": [],
   "source": []
  },
  {
   "cell_type": "code",
   "execution_count": null,
   "id": "bfc7197e",
   "metadata": {},
   "outputs": [],
   "source": []
  },
  {
   "cell_type": "code",
   "execution_count": null,
   "id": "fa04cb60",
   "metadata": {},
   "outputs": [],
   "source": []
  },
  {
   "cell_type": "code",
   "execution_count": null,
   "id": "153250f8",
   "metadata": {},
   "outputs": [],
   "source": []
  }
 ],
 "metadata": {
  "kernelspec": {
   "display_name": "Python 3",
   "language": "python",
   "name": "python3"
  },
  "language_info": {
   "codemirror_mode": {
    "name": "ipython",
    "version": 3
   },
   "file_extension": ".py",
   "mimetype": "text/x-python",
   "name": "python",
   "nbconvert_exporter": "python",
   "pygments_lexer": "ipython3",
   "version": "3.9.5"
  }
 },
 "nbformat": 4,
 "nbformat_minor": 5
}
