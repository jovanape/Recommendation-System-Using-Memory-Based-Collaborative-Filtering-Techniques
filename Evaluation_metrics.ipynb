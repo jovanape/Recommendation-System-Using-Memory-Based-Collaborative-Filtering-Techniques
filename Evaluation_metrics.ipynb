{
 "cells": [
  {
   "cell_type": "code",
   "execution_count": 8,
   "id": "9dd1a56c",
   "metadata": {},
   "outputs": [],
   "source": [
    "import numpy as np\n",
    "import pandas as pd\n",
    "import os\n",
    "from sklearn.metrics.pairwise import cosine_similarity\n",
    "from sklearn.model_selection import train_test_split\n",
    "from scipy import sparse as sps\n",
    "from scipy import sparse\n",
    "import statistics\n",
    "from math import sqrt\n",
    "from math import modf"
   ]
  },
  {
   "cell_type": "code",
   "execution_count": 9,
   "id": "93fe1000",
   "metadata": {},
   "outputs": [],
   "source": [
    "EPS = 0.000000003"
   ]
  },
  {
   "cell_type": "markdown",
   "id": "db7bd26b",
   "metadata": {},
   "source": [
    "### Učitavanje i prikaz podataka, kreiranje retke matrice"
   ]
  },
  {
   "cell_type": "code",
   "execution_count": 10,
   "id": "416747fc",
   "metadata": {},
   "outputs": [
    {
     "data": {
      "text/html": [
       "<div>\n",
       "<style scoped>\n",
       "    .dataframe tbody tr th:only-of-type {\n",
       "        vertical-align: middle;\n",
       "    }\n",
       "\n",
       "    .dataframe tbody tr th {\n",
       "        vertical-align: top;\n",
       "    }\n",
       "\n",
       "    .dataframe thead th {\n",
       "        text-align: right;\n",
       "    }\n",
       "</style>\n",
       "<table border=\"1\" class=\"dataframe\">\n",
       "  <thead>\n",
       "    <tr style=\"text-align: right;\">\n",
       "      <th></th>\n",
       "      <th>userId</th>\n",
       "      <th>movieId</th>\n",
       "      <th>rating</th>\n",
       "    </tr>\n",
       "  </thead>\n",
       "  <tbody>\n",
       "    <tr>\n",
       "      <th>0</th>\n",
       "      <td>1</td>\n",
       "      <td>1</td>\n",
       "      <td>4.0</td>\n",
       "    </tr>\n",
       "    <tr>\n",
       "      <th>1</th>\n",
       "      <td>1</td>\n",
       "      <td>3</td>\n",
       "      <td>4.0</td>\n",
       "    </tr>\n",
       "    <tr>\n",
       "      <th>2</th>\n",
       "      <td>1</td>\n",
       "      <td>6</td>\n",
       "      <td>4.0</td>\n",
       "    </tr>\n",
       "    <tr>\n",
       "      <th>3</th>\n",
       "      <td>1</td>\n",
       "      <td>47</td>\n",
       "      <td>5.0</td>\n",
       "    </tr>\n",
       "    <tr>\n",
       "      <th>4</th>\n",
       "      <td>1</td>\n",
       "      <td>50</td>\n",
       "      <td>5.0</td>\n",
       "    </tr>\n",
       "  </tbody>\n",
       "</table>\n",
       "</div>"
      ],
      "text/plain": [
       "   userId  movieId  rating\n",
       "0       1        1     4.0\n",
       "1       1        3     4.0\n",
       "2       1        6     4.0\n",
       "3       1       47     5.0\n",
       "4       1       50     5.0"
      ]
     },
     "execution_count": 10,
     "metadata": {},
     "output_type": "execute_result"
    }
   ],
   "source": [
    "data_path = 'datasets/'\n",
    "ratings_filename = 'ratings.csv'\n",
    "\n",
    "ratings_df = pd.read_csv(os.path.join(data_path, ratings_filename), usecols=['userId', 'movieId', 'rating'], dtype={'userId': 'int32', 'movieId': 'int32', 'rating': 'float32'})\n",
    "ratings_df.head()"
   ]
  },
  {
   "cell_type": "code",
   "execution_count": 11,
   "id": "8a5e5581",
   "metadata": {},
   "outputs": [
    {
     "data": {
      "text/html": [
       "<div>\n",
       "<style scoped>\n",
       "    .dataframe tbody tr th:only-of-type {\n",
       "        vertical-align: middle;\n",
       "    }\n",
       "\n",
       "    .dataframe tbody tr th {\n",
       "        vertical-align: top;\n",
       "    }\n",
       "\n",
       "    .dataframe thead th {\n",
       "        text-align: right;\n",
       "    }\n",
       "</style>\n",
       "<table border=\"1\" class=\"dataframe\">\n",
       "  <thead>\n",
       "    <tr style=\"text-align: right;\">\n",
       "      <th>movieId</th>\n",
       "      <th>1</th>\n",
       "      <th>2</th>\n",
       "      <th>3</th>\n",
       "      <th>4</th>\n",
       "      <th>5</th>\n",
       "      <th>6</th>\n",
       "      <th>7</th>\n",
       "      <th>8</th>\n",
       "      <th>9</th>\n",
       "      <th>10</th>\n",
       "      <th>...</th>\n",
       "      <th>193565</th>\n",
       "      <th>193567</th>\n",
       "      <th>193571</th>\n",
       "      <th>193573</th>\n",
       "      <th>193579</th>\n",
       "      <th>193581</th>\n",
       "      <th>193583</th>\n",
       "      <th>193585</th>\n",
       "      <th>193587</th>\n",
       "      <th>193609</th>\n",
       "    </tr>\n",
       "    <tr>\n",
       "      <th>userId</th>\n",
       "      <th></th>\n",
       "      <th></th>\n",
       "      <th></th>\n",
       "      <th></th>\n",
       "      <th></th>\n",
       "      <th></th>\n",
       "      <th></th>\n",
       "      <th></th>\n",
       "      <th></th>\n",
       "      <th></th>\n",
       "      <th></th>\n",
       "      <th></th>\n",
       "      <th></th>\n",
       "      <th></th>\n",
       "      <th></th>\n",
       "      <th></th>\n",
       "      <th></th>\n",
       "      <th></th>\n",
       "      <th></th>\n",
       "      <th></th>\n",
       "      <th></th>\n",
       "    </tr>\n",
       "  </thead>\n",
       "  <tbody>\n",
       "    <tr>\n",
       "      <th>1</th>\n",
       "      <td>4.0</td>\n",
       "      <td>0.0</td>\n",
       "      <td>4.0</td>\n",
       "      <td>0.0</td>\n",
       "      <td>0.0</td>\n",
       "      <td>4.0</td>\n",
       "      <td>0.0</td>\n",
       "      <td>0.0</td>\n",
       "      <td>0.0</td>\n",
       "      <td>0.0</td>\n",
       "      <td>...</td>\n",
       "      <td>0.0</td>\n",
       "      <td>0.0</td>\n",
       "      <td>0.0</td>\n",
       "      <td>0.0</td>\n",
       "      <td>0.0</td>\n",
       "      <td>0.0</td>\n",
       "      <td>0.0</td>\n",
       "      <td>0.0</td>\n",
       "      <td>0.0</td>\n",
       "      <td>0.0</td>\n",
       "    </tr>\n",
       "    <tr>\n",
       "      <th>2</th>\n",
       "      <td>0.0</td>\n",
       "      <td>0.0</td>\n",
       "      <td>0.0</td>\n",
       "      <td>0.0</td>\n",
       "      <td>0.0</td>\n",
       "      <td>0.0</td>\n",
       "      <td>0.0</td>\n",
       "      <td>0.0</td>\n",
       "      <td>0.0</td>\n",
       "      <td>0.0</td>\n",
       "      <td>...</td>\n",
       "      <td>0.0</td>\n",
       "      <td>0.0</td>\n",
       "      <td>0.0</td>\n",
       "      <td>0.0</td>\n",
       "      <td>0.0</td>\n",
       "      <td>0.0</td>\n",
       "      <td>0.0</td>\n",
       "      <td>0.0</td>\n",
       "      <td>0.0</td>\n",
       "      <td>0.0</td>\n",
       "    </tr>\n",
       "    <tr>\n",
       "      <th>3</th>\n",
       "      <td>0.0</td>\n",
       "      <td>0.0</td>\n",
       "      <td>0.0</td>\n",
       "      <td>0.0</td>\n",
       "      <td>0.0</td>\n",
       "      <td>0.0</td>\n",
       "      <td>0.0</td>\n",
       "      <td>0.0</td>\n",
       "      <td>0.0</td>\n",
       "      <td>0.0</td>\n",
       "      <td>...</td>\n",
       "      <td>0.0</td>\n",
       "      <td>0.0</td>\n",
       "      <td>0.0</td>\n",
       "      <td>0.0</td>\n",
       "      <td>0.0</td>\n",
       "      <td>0.0</td>\n",
       "      <td>0.0</td>\n",
       "      <td>0.0</td>\n",
       "      <td>0.0</td>\n",
       "      <td>0.0</td>\n",
       "    </tr>\n",
       "    <tr>\n",
       "      <th>4</th>\n",
       "      <td>0.0</td>\n",
       "      <td>0.0</td>\n",
       "      <td>0.0</td>\n",
       "      <td>0.0</td>\n",
       "      <td>0.0</td>\n",
       "      <td>0.0</td>\n",
       "      <td>0.0</td>\n",
       "      <td>0.0</td>\n",
       "      <td>0.0</td>\n",
       "      <td>0.0</td>\n",
       "      <td>...</td>\n",
       "      <td>0.0</td>\n",
       "      <td>0.0</td>\n",
       "      <td>0.0</td>\n",
       "      <td>0.0</td>\n",
       "      <td>0.0</td>\n",
       "      <td>0.0</td>\n",
       "      <td>0.0</td>\n",
       "      <td>0.0</td>\n",
       "      <td>0.0</td>\n",
       "      <td>0.0</td>\n",
       "    </tr>\n",
       "    <tr>\n",
       "      <th>5</th>\n",
       "      <td>4.0</td>\n",
       "      <td>0.0</td>\n",
       "      <td>0.0</td>\n",
       "      <td>0.0</td>\n",
       "      <td>0.0</td>\n",
       "      <td>0.0</td>\n",
       "      <td>0.0</td>\n",
       "      <td>0.0</td>\n",
       "      <td>0.0</td>\n",
       "      <td>0.0</td>\n",
       "      <td>...</td>\n",
       "      <td>0.0</td>\n",
       "      <td>0.0</td>\n",
       "      <td>0.0</td>\n",
       "      <td>0.0</td>\n",
       "      <td>0.0</td>\n",
       "      <td>0.0</td>\n",
       "      <td>0.0</td>\n",
       "      <td>0.0</td>\n",
       "      <td>0.0</td>\n",
       "      <td>0.0</td>\n",
       "    </tr>\n",
       "  </tbody>\n",
       "</table>\n",
       "<p>5 rows × 9724 columns</p>\n",
       "</div>"
      ],
      "text/plain": [
       "movieId  1       2       3       4       5       6       7       8       \\\n",
       "userId                                                                    \n",
       "1           4.0     0.0     4.0     0.0     0.0     4.0     0.0     0.0   \n",
       "2           0.0     0.0     0.0     0.0     0.0     0.0     0.0     0.0   \n",
       "3           0.0     0.0     0.0     0.0     0.0     0.0     0.0     0.0   \n",
       "4           0.0     0.0     0.0     0.0     0.0     0.0     0.0     0.0   \n",
       "5           4.0     0.0     0.0     0.0     0.0     0.0     0.0     0.0   \n",
       "\n",
       "movieId  9       10      ...  193565  193567  193571  193573  193579  193581  \\\n",
       "userId                   ...                                                   \n",
       "1           0.0     0.0  ...     0.0     0.0     0.0     0.0     0.0     0.0   \n",
       "2           0.0     0.0  ...     0.0     0.0     0.0     0.0     0.0     0.0   \n",
       "3           0.0     0.0  ...     0.0     0.0     0.0     0.0     0.0     0.0   \n",
       "4           0.0     0.0  ...     0.0     0.0     0.0     0.0     0.0     0.0   \n",
       "5           0.0     0.0  ...     0.0     0.0     0.0     0.0     0.0     0.0   \n",
       "\n",
       "movieId  193583  193585  193587  193609  \n",
       "userId                                   \n",
       "1           0.0     0.0     0.0     0.0  \n",
       "2           0.0     0.0     0.0     0.0  \n",
       "3           0.0     0.0     0.0     0.0  \n",
       "4           0.0     0.0     0.0     0.0  \n",
       "5           0.0     0.0     0.0     0.0  \n",
       "\n",
       "[5 rows x 9724 columns]"
      ]
     },
     "execution_count": 11,
     "metadata": {},
     "output_type": "execute_result"
    }
   ],
   "source": [
    "ratings_pivot_df = ratings_df.pivot(index='userId',columns='movieId',values='rating').fillna(0)\n",
    "ratings_pivot_df.head()"
   ]
  },
  {
   "cell_type": "code",
   "execution_count": 12,
   "id": "03fb2583",
   "metadata": {},
   "outputs": [
    {
     "name": "stdout",
     "output_type": "stream",
     "text": [
      "[[4.  0.  4.  ... 0.  0.  0. ]\n",
      " [0.  0.  0.  ... 0.  0.  0. ]\n",
      " [0.  0.  0.  ... 0.  0.  0. ]\n",
      " ...\n",
      " [2.5 2.  2.  ... 0.  0.  0. ]\n",
      " [3.  0.  0.  ... 0.  0.  0. ]\n",
      " [5.  0.  0.  ... 0.  0.  0. ]]\n"
     ]
    },
    {
     "data": {
      "text/plain": [
       "((610, 9724), None)"
      ]
     },
     "execution_count": 12,
     "metadata": {},
     "output_type": "execute_result"
    }
   ],
   "source": [
    "ratings_csr_matrix = sps.csr_matrix(ratings_pivot_df)\n",
    "ratings_pivot_df.shape, print(ratings_csr_matrix.todense()) # toarray vraća an ndarray; todense vraća matrix"
   ]
  },
  {
   "cell_type": "markdown",
   "id": "ecae9106",
   "metadata": {},
   "source": [
    "### Implementacije funkcija za podelu skupa, sortiranje, predvidjanje ocena i filtriranje matrice"
   ]
  },
  {
   "cell_type": "code",
   "execution_count": 13,
   "id": "3e89aa82",
   "metadata": {},
   "outputs": [],
   "source": [
    "# Podela datog skupa podataka na skup za trening i skup za test se u narednoj funkciji\n",
    "# vrsi tako sto se iz datog skupa \"uzima\" procenat ocena koje se upisuju u test skup,\n",
    "# a uklanjaju iz trening skupa\n",
    "\n",
    "# parametar ratings_csr_matrix je skup podataka koji treba podeliti na trening i test skup\n",
    "# percentage je broj koji predstavlja procenat ocena koje ulaze u test skup\n",
    "\n",
    "def split_train_test(ratings_csr_matrix, percentage):\n",
    "    \n",
    "    test_ratings_number = percentage / 100\n",
    "    print(\"Odnos ocena u skupu za testiranje: \", percentage, \"%\")\n",
    "    print(\"Odnos ocena u skupu za treniranje: \", 100-percentage, \"%\")\n",
    "\n",
    "    total_ratings = ratings_csr_matrix.toarray()\n",
    "\n",
    "    dimensions_of_total_ratings = total_ratings.shape\n",
    "    print(\"Ukupan broj korisnika: \", dimensions_of_total_ratings[0])\n",
    "    print(\"Ukupan broj filmova: \", dimensions_of_total_ratings[1])\n",
    "\n",
    "    test = np.zeros(dimensions_of_total_ratings)\n",
    "    train = total_ratings.copy()\n",
    "\n",
    "    nonzero_ratings_per_row = (total_ratings != 0).sum(1)\n",
    "    print(\"Ukupan broj ne-nula ocena u svim redovima: \\n\", nonzero_ratings_per_row)\n",
    "    \n",
    "    for user in range(dimensions_of_total_ratings[0]):\n",
    "        \n",
    "        # indeksi ne-nula elemenata\n",
    "        nonzero_test_ratings_per_user = int(np.ceil(test_ratings_number*nonzero_ratings_per_row[user]))\n",
    "        \n",
    "        test_ratings = np.random.choice(total_ratings[user, :].nonzero()[0], size = nonzero_test_ratings_per_user, replace = False)\n",
    "\n",
    "        # ocene se izbacuju iz trening skupa (upisuju se nule na odabranim pozicijama)\n",
    "        train[user, test_ratings] = 0\n",
    "\n",
    "        # ocene se ubacuju u test skup (upisuju se ocene iz polaznog skupa, koje su uklonjene iz trening skupa)\n",
    "        test[user, test_ratings] = total_ratings[user, test_ratings]\n",
    "        \n",
    "    if (not(np.all((train * test) == 0))):\n",
    "        print(\"Greska!\")\n",
    "    else:    \n",
    "        return sps.csr_matrix(train),sps.csr_matrix(test)"
   ]
  },
  {
   "cell_type": "code",
   "execution_count": 14,
   "id": "b1ca9ae4",
   "metadata": {},
   "outputs": [],
   "source": [
    "# Funkcija za sortiranje liste opadajuće\n",
    "\n",
    "def sort_descending(li):\n",
    "    # reverse (opcioni parametar)\n",
    "    # reverse = True - sortirana lista se preokreće (postaje sortirana opadajuće)\n",
    "    # reverse = None - lista ostaje sortirana rastuće\n",
    "    li.sort(key = lambda x: x[0], reverse=True)\n",
    "    return li"
   ]
  },
  {
   "cell_type": "code",
   "execution_count": 15,
   "id": "9d4d5f23",
   "metadata": {},
   "outputs": [],
   "source": [
    "# Funkcija računa ocenu korisnika u za film i na osnovu matrice sličnosti filmova (item-based pristup)\n",
    "\n",
    "def item_based_ratings_prediction(u, i, movies_similarity, ratings, k = 5):        \n",
    "\n",
    "    neighbors = []\n",
    "    similarities = list(zip(movies_similarity[i][:],range(movies_similarity.shape[0])))\n",
    "    similarities_sorted = sort_descending(similarities)\n",
    "    \n",
    "    for i in range(1,k+1):\n",
    "        neighbors.append(similarities_sorted[i][1])\n",
    "        \n",
    "    rated_i = ratings[:, i].nonzero()[0]\n",
    "        \n",
    "    item_i_mean = 0\n",
    "    item_i_mean = (ratings[:, i].toarray()[0]).sum()\n",
    "    \n",
    "    if len(rated_i) != 0:\n",
    "        item_i_mean = item_i_mean / len(rated_i)\n",
    "        \n",
    "    numerator, denominator = 0.0, 0.0\n",
    "        \n",
    "    for j in neighbors:\n",
    "        rated_j = ratings[:, j].nonzero()[0]\n",
    "        item_j_mean = 0\n",
    "        \n",
    "        if len(rated_j) != 0:\n",
    "            arr2 = ratings[:, j].toarray()[0]\n",
    "            item_j_mean = arr2.sum()\n",
    "            item_j_mean = item_j_mean / len(rated_j)\n",
    "        \n",
    "        r_uj = ratings[u,j]\n",
    "        numerator += movies_similarity[i][j]*(r_uj - item_j_mean)\n",
    "        denominator += movies_similarity[i][j]\n",
    "        \n",
    "    return item_i_mean + numerator/denominator"
   ]
  },
  {
   "cell_type": "code",
   "execution_count": 16,
   "id": "47be524f",
   "metadata": {},
   "outputs": [],
   "source": [
    "# Funkcija filtrira datu matricu ocena tako da ostaju samo redovi korisnika koji su glasali više od n puta\n",
    "\n",
    "def filter_matrix(matrix, n):\n",
    "    ratings_array = matrix.toarray()\n",
    "    ratings_matrix_filtered = []\n",
    "    for row in ratings_array:\n",
    "        sum = 0\n",
    "        nonzero_count = np.count_nonzero(row)\n",
    "        if (nonzero_count > n):\n",
    "            ratings_matrix_filtered.append(row)\n",
    "    ratings_matrix_filtered_shape = np.vstack(ratings_matrix_filtered).shape\n",
    "    print(\"Dimenzije filtrirane matrice ocena su: \", ratings_matrix_filtered_shape)\n",
    "    return np.vstack(ratings_matrix_filtered)"
   ]
  },
  {
   "cell_type": "markdown",
   "id": "e52c39ac",
   "metadata": {},
   "source": [
    "### Redukcija, filtriranje i podela skupa podataka (matrice ocena) na skupove za trening i test"
   ]
  },
  {
   "cell_type": "code",
   "execution_count": 17,
   "id": "79264be8",
   "metadata": {},
   "outputs": [
    {
     "name": "stdout",
     "output_type": "stream",
     "text": [
      "Dimenzije redukovane matrice ocena su:  (83, 900)\n",
      "Dimenzije filtrirane matrice ocena su:  (10, 900)\n",
      "Filtrirana matrica: \n",
      " [[0.  4.  5.  ... 0.  0.  0. ]\n",
      " [4.  3.  3.  ... 4.  5.  5. ]\n",
      " [5.  0.  0.  ... 0.  0.  0. ]\n",
      " ...\n",
      " [0.  0.  3.  ... 0.  0.  0. ]\n",
      " [4.  0.  3.5 ... 3.5 4.5 0. ]\n",
      " [2.5 2.5 2.  ... 5.  5.  5. ]]\n",
      "Odnos ocena u skupu za testiranje:  20 %\n",
      "Odnos ocena u skupu za treniranje:  80 %\n",
      "Ukupan broj korisnika:  10\n",
      "Ukupan broj filmova:  900\n",
      "Ukupan broj ne-nula ocena u svim redovima: \n",
      " [314 212 103 136 113 114 167 112 119 189]\n"
     ]
    }
   ],
   "source": [
    "# Redukcija matrice ocena\n",
    "ratings_csr_reduced = ratings_csr_matrix[:83, :900]\n",
    "print(\"Dimenzije redukovane matrice ocena su: \", ratings_csr_reduced.shape)\n",
    "\n",
    "# Filtriranje matrice ocena tako da ostanu korisnici koji su ocenili preko 100 filmova\n",
    "filtered_matrix = filter_matrix(ratings_csr_reduced, n = 100)\n",
    "print('Filtrirana matrica: \\n', filtered_matrix)\n",
    "\n",
    "# Podela skupa na train_and_validation i test\n",
    "filtered_ratings_csr_matrix = sps.csr_matrix(filtered_matrix)\n",
    "train_and_validation, test = split_train_test(filtered_ratings_csr_matrix, 20)"
   ]
  },
  {
   "cell_type": "code",
   "execution_count": 18,
   "id": "950a7e10",
   "metadata": {},
   "outputs": [
    {
     "name": "stdout",
     "output_type": "stream",
     "text": [
      "Odnos ocena u skupu za testiranje:  30 %\n",
      "Odnos ocena u skupu za treniranje:  70 %\n",
      "Ukupan broj korisnika:  10\n",
      "Ukupan broj filmova:  900\n",
      "Ukupan broj ne-nula ocena u svim redovima: \n",
      " [251 169  82 108  90  91 133  89  95 151]\n"
     ]
    }
   ],
   "source": [
    "# Podela skupa train_and_validation na skupove train i validation\n",
    "train, validation = split_train_test(train_and_validation, 30)"
   ]
  },
  {
   "cell_type": "code",
   "execution_count": 19,
   "id": "3402e62f",
   "metadata": {},
   "outputs": [
    {
     "name": "stdout",
     "output_type": "stream",
     "text": [
      "Dimenzije train skupa:  (10, 900)\n"
     ]
    }
   ],
   "source": [
    "print('Dimenzije train skupa: ', train.shape)"
   ]
  },
  {
   "cell_type": "markdown",
   "id": "94d4dbd7",
   "metadata": {},
   "source": [
    "### Računanje matrice sličnosti"
   ]
  },
  {
   "cell_type": "code",
   "execution_count": 20,
   "id": "1c87e531",
   "metadata": {},
   "outputs": [
    {
     "name": "stdout",
     "output_type": "stream",
     "text": [
      "Matrica sličnosti:\n",
      " [[1.0000000e+00 2.9706702e-01 3.4179297e-01 ... 2.2175480e-01\n",
      "  2.0761439e-01 3.0000000e-09]\n",
      " [2.9706702e-01 1.0000000e+00 3.0000000e-09 ... 3.0000000e-09\n",
      "  3.8190201e-01 3.0000000e-09]\n",
      " [3.4179297e-01 3.0000000e-09 9.9999994e-01 ... 3.0000000e-09\n",
      "  3.0000000e-09 3.0000000e-09]\n",
      " ...\n",
      " [2.2175480e-01 3.0000000e-09 3.0000000e-09 ... 1.0000000e+00\n",
      "  7.9660189e-01 3.0000000e-09]\n",
      " [2.0761439e-01 3.8190201e-01 3.0000000e-09 ... 7.9660189e-01\n",
      "  1.0000000e+00 3.0000000e-09]\n",
      " [3.0000000e-09 3.0000000e-09 3.0000000e-09 ... 3.0000000e-09\n",
      "  3.0000000e-09 3.0000000e-09]]\n",
      "\n",
      "Dimenzije matrice sličnosti:  (900, 900)\n"
     ]
    }
   ],
   "source": [
    "# Kreiranje matrice sličnosti za filmove\n",
    "similarity = cosine_similarity(train.T) + EPS\n",
    "print('Matrica sličnosti:\\n', similarity)\n",
    "print('\\nDimenzije matrice sličnosti: ', similarity.shape)"
   ]
  },
  {
   "cell_type": "markdown",
   "id": "1f405e55",
   "metadata": {},
   "source": [
    "### Računanje preciznosti"
   ]
  },
  {
   "cell_type": "code",
   "execution_count": 21,
   "id": "043ea651",
   "metadata": {},
   "outputs": [
    {
     "name": "stdout",
     "output_type": "stream",
     "text": [
      "Broj ocena različitih od 0 za usera čiji je id = 1 je 118.\n"
     ]
    }
   ],
   "source": [
    "# Broj ocena različitih od 0 u izdvojenom train skupu za korisnika čiji je id = 1\n",
    "user_id = 1\n",
    "sum = 0\n",
    "for i in range(train.shape[1]):\n",
    "    if train[user_id,i] != 0.0:\n",
    "        sum += 1\n",
    "print('Broj ocena različitih od 0 za usera čiji je id = {} je {}.'.format(user_id, sum))\n",
    "\n",
    "# Kraći zapis:\n",
    "# np.count_nonzero(train[1].toarray())"
   ]
  },
  {
   "cell_type": "code",
   "execution_count": 22,
   "id": "e9be80cc",
   "metadata": {},
   "outputs": [
    {
     "name": "stdout",
     "output_type": "stream",
     "text": [
      "Ocena korisnika čiji je id = 1 za film sa id-jem 686 je 4.0.\n"
     ]
    }
   ],
   "source": [
    "# Primer: ocena za user_id = 1 i movie_id = 686\n",
    "user_id = 1\n",
    "movie_id = 686\n",
    "score = item_based_ratings_prediction(user_id, movie_id, similarity , train, k=1)\n",
    "print('Ocena korisnika čiji je id = {} za film sa id-jem {} je {}.'.format(user_id, movie_id, score))"
   ]
  },
  {
   "cell_type": "code",
   "execution_count": 23,
   "id": "67f910cf",
   "metadata": {},
   "outputs": [],
   "source": [
    "# Funkcija koja razlomljeni deo broja, ukoliko je \"blizu\" 0.5 \"zaokružuje\" na 0.5,\n",
    "# a inače broj zaokružuje pozivom funkcije round.\n",
    "# Ovakav način zaokruživanja je bitan zato što postoje ocene oblika n.m\n",
    "# i ukoliko bi se koristila samo funkcija round, takve ocene bi bile izostavljene\n",
    "\n",
    "def round_score(score_value):\n",
    "    frac, whole = modf(score_value)\n",
    "\n",
    "    if 0.46 < frac < 0.56:\n",
    "        frac = 0.5\n",
    "        new_score_value = whole + frac\n",
    "    else:\n",
    "        new_score_value = np.round(whole + frac)\n",
    "\n",
    "    return new_score_value"
   ]
  },
  {
   "cell_type": "code",
   "execution_count": 24,
   "id": "20e6ad80",
   "metadata": {},
   "outputs": [],
   "source": [
    "# Funkcija kreira rečnik sa svim ocenama korisnika čiji je id = u_id,\n",
    "# izdvaja indekse i ocene filmova koji su od korisika čiji je id = u_id dobili ocene veće od datog praga\n",
    "\n",
    "def get_predicted_movies_ids_and_all_scores_for_user(ratings_m, similarity, k, u_id, limit_score):\n",
    "    \n",
    "    # Rečnik oblika {id_filma_1: ocena_1, id_filma_2: ocena_2, ...} za korisnika čiji je id = user_id\n",
    "    dicts = {}\n",
    "\n",
    "    keys = range(ratings_m.shape[1])\n",
    "\n",
    "    # Ocene korisnika čiji je id = u_id i sve filmove (do id-a ratings_m.shape[1])\n",
    "    for i in keys:\n",
    "        dicts[i] = item_based_ratings_prediction(u_id, i, similarity, ratings_m, k)\n",
    "\n",
    "    dicts_asc = {k: v for k, v in sorted(dicts.items(), key=lambda item: item[1])}\n",
    "\n",
    "    # Predviđene ocene veće od m\n",
    "    movies_ids= []\n",
    "    predicted_scores_values = []\n",
    "    print('Predvidjene ocene vece od ', limit_score)\n",
    "    for c in reversed(dicts_asc):\n",
    "        if (dicts_asc[c] >= limit_score):\n",
    "            score_tmp = round_score(dicts_asc[c])\n",
    "            print('Id filma: {} - Ocena filma: {}'.format(c, score_tmp))\n",
    "            movies_ids.append(c)\n",
    "            predicted_scores_values.append(score_tmp)\n",
    "\n",
    "    # Povratne vrednosti su:\n",
    "    # indeksi filmova koji su od korisnika čiji je id = u_id dobili ocene veće od m,\n",
    "    # rečnik svih ocena korisnika čiji je id = u_id\n",
    "    return movies_ids, dicts_asc, predicted_scores_values"
   ]
  },
  {
   "cell_type": "code",
   "execution_count": 35,
   "id": "a62b9022",
   "metadata": {},
   "outputs": [],
   "source": [
    "# Funkcija koja ispisuje informacije o filmovima za koje su predviđene ocene veće od nekog praga\n",
    "# i pravim ocenama za filmove za koje su predviđene ocene veće od praga\n",
    "\n",
    "def get_atual_scores_list(ratings_m, u_id, similarity, k = 5, limit_score = 4.5):\n",
    "    movies_indices, dicts_asc, predicted_scores_values = get_predicted_movies_ids_and_all_scores_for_user(ratings_m, similarity, k, u_id, limit_score)\n",
    "    print('Indeksi filmova čije su predviđene ocene veće od {} su {}'.format(limit_score, movies_indices))\n",
    "    \n",
    "    # prave ocene u trening skupu za korisnika čiji je id = u_id\n",
    "    actual_for_predicted_scores = ratings_m[u_id, movies_indices].toarray()\n",
    "    actual_for_predicted_scores_lst = list(actual_for_predicted_scores[0])\n",
    "    print('Prave ocene na indeksima čije su predviđene ocene veće od {} su {}'.format(limit_score, actual_for_predicted_scores_lst))\n",
    "    \n",
    "    return actual_for_predicted_scores_lst"
   ]
  },
  {
   "cell_type": "code",
   "execution_count": 26,
   "id": "ebd1ebf0",
   "metadata": {},
   "outputs": [],
   "source": [
    "# Funkcija koja računa preciznost na osnovu broja relevantnih (tačno predviđenih) ocena i broja predviđenih ocena\n",
    "\n",
    "def calculate_precision(ratings_m, similarity, u_id, k = 5, limit_score = 4.5):\n",
    "    movies_indices, dicts_asc = get_predicted_movies_ids_and_all_scores_for_user(ratings_m, similarity, k, u_id, limit_score)\n",
    "\n",
    "    movies_filtered_indices = []\n",
    "    movies_filtered_ratings = []\n",
    "    for i in movies_indices:\n",
    "        if ratings_m[1, i] > 0:\n",
    "            movies_filtered_indices.append(i)\n",
    "            movies_filtered_ratings.append(ratings_m[1, i])\n",
    "    print('Filtrirani indeksi (ocene veće od 0): ', movies_filtered_indices)\n",
    "    print('Filtrirane stvarne ocene (veće od 0): ', movies_filtered_ratings)\n",
    "    \n",
    "    predicted_filtered_scores = []\n",
    "    for key in dicts_asc:\n",
    "        if key in movies_filtered_indices:\n",
    "            predicted_filtered_scores.append(round_score(dicts_asc[key]))\n",
    "    print('Filtrirane predviđene ocene: ', predicted_filtered_scores)\n",
    "    \n",
    "    num_of_relevant_recommended_items = np.count_nonzero((np.array(movies_filtered_ratings) == np.array(predicted_filtered_scores))*1)\n",
    "    \n",
    "    if len(predicted_filtered_scores) != 0:\n",
    "        precision = num_of_relevant_recommended_items/len(predicted_filtered_scores)\n",
    "        return precision\n",
    "    else:\n",
    "        print('Greška zbog deljenja nulom.')\n",
    "        return"
   ]
  },
  {
   "cell_type": "code",
   "execution_count": 58,
   "id": "3de69b55",
   "metadata": {},
   "outputs": [
    {
     "name": "stdout",
     "output_type": "stream",
     "text": [
      "Predvidjene ocene vece od  3.5\n",
      "Id filma: 862 - Ocena filma: 4.0\n",
      "Id filma: 406 - Ocena filma: 4.0\n",
      "Id filma: 883 - Ocena filma: 4.0\n",
      "Id filma: 714 - Ocena filma: 4.0\n",
      "Id filma: 686 - Ocena filma: 4.0\n",
      "Id filma: 560 - Ocena filma: 4.0\n",
      "Id filma: 559 - Ocena filma: 4.0\n"
     ]
    }
   ],
   "source": [
    "movies_ids, dicts_asc, predicted_scores_values = get_predicted_movies_ids_and_all_scores_for_user(train, similarity, k = 5, u_id = 1, limit_score = 3.5)"
   ]
  },
  {
   "cell_type": "code",
   "execution_count": 59,
   "id": "908bf327",
   "metadata": {},
   "outputs": [
    {
     "name": "stdout",
     "output_type": "stream",
     "text": [
      "Predvidjene ocene vece od  3.5\n",
      "Id filma: 862 - Ocena filma: 4.0\n",
      "Id filma: 406 - Ocena filma: 4.0\n",
      "Id filma: 883 - Ocena filma: 4.0\n",
      "Id filma: 714 - Ocena filma: 4.0\n",
      "Id filma: 686 - Ocena filma: 4.0\n",
      "Id filma: 560 - Ocena filma: 4.0\n",
      "Id filma: 559 - Ocena filma: 4.0\n",
      "Indeksi filmova čije su predviđene ocene veće od 3.5 su [862, 406, 883, 714, 686, 560, 559]\n",
      "Prave ocene na indeksima čije su predviđene ocene veće od 3.5 su [3.0, 3.0, 2.0, 4.0, 5.0, 4.0, 1.0]\n"
     ]
    }
   ],
   "source": [
    "actual_for_predicted_scores_lst = get_atual_scores_list(train, u_id = 1, similarity = similarity, k = 5, limit_score = 3.5)"
   ]
  },
  {
   "cell_type": "code",
   "execution_count": 60,
   "id": "dfa03ccb",
   "metadata": {},
   "outputs": [
    {
     "data": {
      "text/plain": [
       "([4.0, 4.0, 4.0, 4.0, 4.0, 4.0, 4.0], [3.0, 3.0, 2.0, 4.0, 5.0, 4.0, 1.0])"
      ]
     },
     "execution_count": 60,
     "metadata": {},
     "output_type": "execute_result"
    }
   ],
   "source": [
    "predicted_scores_values, actual_for_predicted_scores_lst"
   ]
  },
  {
   "cell_type": "code",
   "execution_count": 62,
   "id": "d76da876",
   "metadata": {},
   "outputs": [],
   "source": [
    "def get_recall(limit, predicted_scores_values, actual_for_predicted_scores_lst):\n",
    "    # limit = 3.5\n",
    "    i = 0\n",
    "    tp = 0\n",
    "    fn = 0\n",
    "\n",
    "    for predicted_score in predicted_scores_values:\n",
    "        if actual_for_predicted_scores_lst[i] >= limit:\n",
    "            tp += 1\n",
    "        else:\n",
    "            fn +=1\n",
    "        i += 1\n",
    "\n",
    "    recall = tp / (tp + fn)\n",
    "    return recall"
   ]
  },
  {
   "cell_type": "code",
   "execution_count": 63,
   "id": "bbf30733",
   "metadata": {},
   "outputs": [
    {
     "name": "stdout",
     "output_type": "stream",
     "text": [
      "Odziv je:  0.42857142857142855\n"
     ]
    }
   ],
   "source": [
    "# Odziv\n",
    "recall = get_recall(limit, predicted_scores_values, actual_for_predicted_scores_lst)\n",
    "print('Odziv je: ', recall)"
   ]
  },
  {
   "cell_type": "code",
   "execution_count": 26,
   "id": "be44c5ff",
   "metadata": {},
   "outputs": [
    {
     "name": "stdout",
     "output_type": "stream",
     "text": [
      "Predvidjene ocene vece od  3\n",
      "Id filma: 622 - Ocena filma: 5.0\n",
      "Id filma: 336 - Ocena filma: 5.0\n",
      "Id filma: 113 - Ocena filma: 5.0\n",
      "Id filma: 483 - Ocena filma: 4.0\n",
      "Id filma: 434 - Ocena filma: 4.0\n",
      "Id filma: 592 - Ocena filma: 4.0\n",
      "Id filma: 779 - Ocena filma: 4.0\n",
      "Id filma: 191 - Ocena filma: 3.5\n",
      "Id filma: 505 - Ocena filma: 3.5\n",
      "Id filma: 857 - Ocena filma: 3.0\n",
      "Id filma: 820 - Ocena filma: 3.0\n",
      "Id filma: 816 - Ocena filma: 3.0\n",
      "Id filma: 808 - Ocena filma: 3.0\n",
      "Id filma: 750 - Ocena filma: 3.0\n",
      "Id filma: 714 - Ocena filma: 3.0\n",
      "Id filma: 711 - Ocena filma: 3.0\n",
      "Id filma: 703 - Ocena filma: 3.0\n",
      "Id filma: 697 - Ocena filma: 3.0\n",
      "Id filma: 695 - Ocena filma: 3.0\n",
      "Id filma: 686 - Ocena filma: 3.0\n",
      "Id filma: 685 - Ocena filma: 3.0\n",
      "Id filma: 669 - Ocena filma: 3.0\n",
      "Id filma: 667 - Ocena filma: 3.0\n",
      "Id filma: 649 - Ocena filma: 3.0\n",
      "Id filma: 643 - Ocena filma: 3.0\n",
      "Id filma: 598 - Ocena filma: 3.0\n",
      "Id filma: 587 - Ocena filma: 3.0\n",
      "Id filma: 585 - Ocena filma: 3.0\n",
      "Id filma: 578 - Ocena filma: 3.0\n",
      "Id filma: 560 - Ocena filma: 3.0\n",
      "Id filma: 543 - Ocena filma: 3.0\n",
      "Id filma: 522 - Ocena filma: 3.0\n",
      "Id filma: 497 - Ocena filma: 3.0\n",
      "Id filma: 475 - Ocena filma: 3.0\n",
      "Id filma: 410 - Ocena filma: 3.0\n",
      "Id filma: 406 - Ocena filma: 3.0\n",
      "Id filma: 367 - Ocena filma: 3.0\n",
      "Id filma: 366 - Ocena filma: 3.0\n",
      "Id filma: 335 - Ocena filma: 3.0\n",
      "Id filma: 283 - Ocena filma: 3.0\n",
      "Id filma: 252 - Ocena filma: 3.0\n",
      "Id filma: 103 - Ocena filma: 3.0\n",
      "Id filma: 11 - Ocena filma: 3.0\n",
      "Id filma: 190 - Ocena filma: 3.0\n",
      "Id filma: 334 - Ocena filma: 3.0\n",
      "Id filma: 835 - Ocena filma: 3.0\n",
      "Id filma: 818 - Ocena filma: 3.0\n",
      "Id filma: 883 - Ocena filma: 3.0\n",
      "Id filma: 637 - Ocena filma: 3.0\n",
      "Id filma: 599 - Ocena filma: 3.0\n",
      "Id filma: 559 - Ocena filma: 3.0\n",
      "Id filma: 618 - Ocena filma: 3.0\n",
      "Id filma: 58 - Ocena filma: 3.0\n",
      "Id filma: 507 - Ocena filma: 3.0\n",
      "Id filma: 311 - Ocena filma: 3.0\n",
      "Indeksi filmova čije su predviđene ocene veće od 3 su [622, 336, 113, 483, 434, 592, 779, 191, 505, 857, 820, 816, 808, 750, 714, 711, 703, 697, 695, 686, 685, 669, 667, 649, 643, 598, 587, 585, 578, 560, 543, 522, 497, 475, 410, 406, 367, 366, 335, 283, 252, 103, 11, 190, 334, 835, 818, 883, 637, 599, 559, 618, 58, 507, 311]\n",
      "Prave ocene na indeksima čije su predviđene ocene veće od 3 su [2.0, 2.0, 3.0, 5.0, 3.0, 3.0, 2.0, 0.0, 3.0, 3.0, 2.0, 3.0, 3.0, 2.0, 4.0, 3.0, 3.0, 2.0, 5.0, 5.0, 5.0, 1.0, 1.0, 4.0, 2.0, 2.0, 4.0, 4.0, 2.0, 4.0, 1.0, 3.0, 2.0, 2.0, 2.0, 3.0, 3.0, 3.0, 3.0, 2.0, 2.0, 3.0, 1.0, 3.0, 4.0, 5.0, 4.0, 2.0, 1.0, 4.0, 1.0, 4.0, 2.0, 5.0, 5.0]\n"
     ]
    }
   ],
   "source": [
    "# Ispis predviđenih ocena, odgovarajućih indeksa filmova i pravih ocena\n",
    "get_atual_scores_list(train, u_id = 1, similarity = similarity, k = 5, limit_score = 3)"
   ]
  },
  {
   "cell_type": "code",
   "execution_count": 30,
   "id": "794401c7",
   "metadata": {},
   "outputs": [
    {
     "name": "stdout",
     "output_type": "stream",
     "text": [
      "Predvidjene ocene vece od  3.5\n",
      "Id filma: 296 - Ocena filma: 5.0\n",
      "Id filma: 622 - Ocena filma: 5.0\n",
      "Id filma: 592 - Ocena filma: 4.0\n",
      "Id filma: 191 - Ocena filma: 4.0\n",
      "Id filma: 779 - Ocena filma: 4.0\n",
      "Id filma: 483 - Ocena filma: 4.0\n",
      "Id filma: 58 - Ocena filma: 4.0\n",
      "Id filma: 334 - Ocena filma: 4.0\n",
      "Id filma: 830 - Ocena filma: 4.0\n",
      "Id filma: 558 - Ocena filma: 4.0\n",
      "Id filma: 95 - Ocena filma: 4.0\n",
      "Id filma: 883 - Ocena filma: 4.0\n",
      "Id filma: 637 - Ocena filma: 4.0\n",
      "Id filma: 599 - Ocena filma: 4.0\n",
      "Id filma: 559 - Ocena filma: 4.0\n",
      "Id filma: 857 - Ocena filma: 4.0\n",
      "Id filma: 820 - Ocena filma: 4.0\n",
      "Id filma: 816 - Ocena filma: 4.0\n",
      "Id filma: 808 - Ocena filma: 4.0\n",
      "Id filma: 750 - Ocena filma: 4.0\n",
      "Id filma: 714 - Ocena filma: 4.0\n",
      "Id filma: 711 - Ocena filma: 4.0\n",
      "Id filma: 703 - Ocena filma: 4.0\n",
      "Id filma: 697 - Ocena filma: 4.0\n",
      "Id filma: 695 - Ocena filma: 4.0\n",
      "Id filma: 686 - Ocena filma: 4.0\n",
      "Id filma: 685 - Ocena filma: 4.0\n",
      "Id filma: 669 - Ocena filma: 4.0\n",
      "Id filma: 667 - Ocena filma: 4.0\n",
      "Id filma: 649 - Ocena filma: 4.0\n",
      "Id filma: 643 - Ocena filma: 4.0\n",
      "Id filma: 598 - Ocena filma: 4.0\n",
      "Id filma: 587 - Ocena filma: 4.0\n",
      "Id filma: 585 - Ocena filma: 4.0\n",
      "Id filma: 578 - Ocena filma: 4.0\n",
      "Id filma: 560 - Ocena filma: 4.0\n",
      "Id filma: 543 - Ocena filma: 4.0\n",
      "Id filma: 522 - Ocena filma: 4.0\n",
      "Id filma: 497 - Ocena filma: 4.0\n",
      "Id filma: 475 - Ocena filma: 4.0\n",
      "Id filma: 410 - Ocena filma: 4.0\n",
      "Id filma: 406 - Ocena filma: 4.0\n",
      "Id filma: 367 - Ocena filma: 4.0\n",
      "Id filma: 366 - Ocena filma: 4.0\n",
      "Id filma: 335 - Ocena filma: 4.0\n",
      "Id filma: 283 - Ocena filma: 4.0\n",
      "Id filma: 252 - Ocena filma: 4.0\n",
      "Id filma: 103 - Ocena filma: 4.0\n",
      "Id filma: 11 - Ocena filma: 4.0\n",
      "Id filma: 818 - Ocena filma: 4.0\n",
      "Id filma: 606 - Ocena filma: 4.0\n",
      "Id filma: 505 - Ocena filma: 3.5\n",
      "Id filma: 131 - Ocena filma: 3.5\n",
      "Filtrirani indeksi (ocene veće od 0):  [296, 622, 592, 779, 483, 58, 334, 830, 558, 95, 883, 637, 599, 559, 857, 820, 816, 808, 750, 714, 711, 703, 697, 695, 686, 685, 669, 667, 649, 643, 598, 587, 585, 578, 560, 543, 522, 497, 475, 410, 406, 367, 366, 335, 283, 252, 103, 11, 818, 606, 505, 131]\n",
      "Filtrirane stvarne ocene (veće od 0):  [2.0, 2.0, 3.0, 2.0, 5.0, 2.0, 4.0, 2.0, 2.0, 2.0, 2.0, 1.0, 4.0, 1.0, 3.0, 2.0, 3.0, 3.0, 2.0, 4.0, 3.0, 3.0, 2.0, 5.0, 5.0, 5.0, 1.0, 1.0, 4.0, 2.0, 2.0, 4.0, 4.0, 2.0, 4.0, 1.0, 3.0, 2.0, 2.0, 2.0, 3.0, 3.0, 3.0, 3.0, 2.0, 2.0, 3.0, 1.0, 4.0, 3.0, 3.0, 3.0]\n",
      "Filtrirane predviđene ocene:  [3.5, 3.5, 4.0, 4.0, 4.0, 4.0, 4.0, 4.0, 4.0, 4.0, 4.0, 4.0, 4.0, 4.0, 4.0, 4.0, 4.0, 4.0, 4.0, 4.0, 4.0, 4.0, 4.0, 4.0, 4.0, 4.0, 4.0, 4.0, 4.0, 4.0, 4.0, 4.0, 4.0, 4.0, 4.0, 4.0, 4.0, 4.0, 4.0, 4.0, 4.0, 4.0, 4.0, 4.0, 4.0, 4.0, 4.0, 4.0, 4.0, 4.0, 5.0, 5.0]\n",
      "Precision =  0.15384615384615385\n"
     ]
    }
   ],
   "source": [
    "# Preciznost\n",
    "precision_value = calculate_precision(train, similarity, u_id = 1, k = 6, limit_score = 3.5)\n",
    "print('Precision = ', precision_value)"
   ]
  },
  {
   "cell_type": "code",
   "execution_count": null,
   "id": "5cb0c057",
   "metadata": {},
   "outputs": [],
   "source": []
  },
  {
   "cell_type": "code",
   "execution_count": null,
   "id": "79e69576",
   "metadata": {},
   "outputs": [],
   "source": []
  }
 ],
 "metadata": {
  "kernelspec": {
   "display_name": "Python 3",
   "language": "python",
   "name": "python3"
  },
  "language_info": {
   "codemirror_mode": {
    "name": "ipython",
    "version": 3
   },
   "file_extension": ".py",
   "mimetype": "text/x-python",
   "name": "python",
   "nbconvert_exporter": "python",
   "pygments_lexer": "ipython3",
   "version": "3.9.5"
  }
 },
 "nbformat": 4,
 "nbformat_minor": 5
}
