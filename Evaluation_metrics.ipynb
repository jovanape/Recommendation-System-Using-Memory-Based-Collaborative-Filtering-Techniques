{
 "cells": [
  {
   "cell_type": "code",
   "execution_count": 1,
   "id": "9dd1a56c",
   "metadata": {},
   "outputs": [],
   "source": [
    "import numpy as np\n",
    "import pandas as pd\n",
    "import os\n",
    "from sklearn.metrics.pairwise import cosine_similarity\n",
    "from sklearn.model_selection import train_test_split\n",
    "from scipy import sparse as sps\n",
    "import statistics\n",
    "from math import sqrt\n",
    "from scipy import sparse"
   ]
  },
  {
   "cell_type": "code",
   "execution_count": 2,
   "id": "416747fc",
   "metadata": {},
   "outputs": [
    {
     "data": {
      "text/html": [
       "<div>\n",
       "<style scoped>\n",
       "    .dataframe tbody tr th:only-of-type {\n",
       "        vertical-align: middle;\n",
       "    }\n",
       "\n",
       "    .dataframe tbody tr th {\n",
       "        vertical-align: top;\n",
       "    }\n",
       "\n",
       "    .dataframe thead th {\n",
       "        text-align: right;\n",
       "    }\n",
       "</style>\n",
       "<table border=\"1\" class=\"dataframe\">\n",
       "  <thead>\n",
       "    <tr style=\"text-align: right;\">\n",
       "      <th></th>\n",
       "      <th>userId</th>\n",
       "      <th>movieId</th>\n",
       "      <th>rating</th>\n",
       "    </tr>\n",
       "  </thead>\n",
       "  <tbody>\n",
       "    <tr>\n",
       "      <th>0</th>\n",
       "      <td>1</td>\n",
       "      <td>1</td>\n",
       "      <td>4.0</td>\n",
       "    </tr>\n",
       "    <tr>\n",
       "      <th>1</th>\n",
       "      <td>1</td>\n",
       "      <td>3</td>\n",
       "      <td>4.0</td>\n",
       "    </tr>\n",
       "    <tr>\n",
       "      <th>2</th>\n",
       "      <td>1</td>\n",
       "      <td>6</td>\n",
       "      <td>4.0</td>\n",
       "    </tr>\n",
       "    <tr>\n",
       "      <th>3</th>\n",
       "      <td>1</td>\n",
       "      <td>47</td>\n",
       "      <td>5.0</td>\n",
       "    </tr>\n",
       "    <tr>\n",
       "      <th>4</th>\n",
       "      <td>1</td>\n",
       "      <td>50</td>\n",
       "      <td>5.0</td>\n",
       "    </tr>\n",
       "  </tbody>\n",
       "</table>\n",
       "</div>"
      ],
      "text/plain": [
       "   userId  movieId  rating\n",
       "0       1        1     4.0\n",
       "1       1        3     4.0\n",
       "2       1        6     4.0\n",
       "3       1       47     5.0\n",
       "4       1       50     5.0"
      ]
     },
     "execution_count": 2,
     "metadata": {},
     "output_type": "execute_result"
    }
   ],
   "source": [
    "data_path = 'datasets/'\n",
    "ratings_filename = 'ratings.csv'\n",
    "\n",
    "ratings_df = pd.read_csv(os.path.join(data_path, ratings_filename), usecols=['userId', 'movieId', 'rating'], dtype={'userId': 'int32', 'movieId': 'int32', 'rating': 'float32'})\n",
    "ratings_df.head()"
   ]
  },
  {
   "cell_type": "code",
   "execution_count": 3,
   "id": "8a5e5581",
   "metadata": {},
   "outputs": [
    {
     "data": {
      "text/html": [
       "<div>\n",
       "<style scoped>\n",
       "    .dataframe tbody tr th:only-of-type {\n",
       "        vertical-align: middle;\n",
       "    }\n",
       "\n",
       "    .dataframe tbody tr th {\n",
       "        vertical-align: top;\n",
       "    }\n",
       "\n",
       "    .dataframe thead th {\n",
       "        text-align: right;\n",
       "    }\n",
       "</style>\n",
       "<table border=\"1\" class=\"dataframe\">\n",
       "  <thead>\n",
       "    <tr style=\"text-align: right;\">\n",
       "      <th>movieId</th>\n",
       "      <th>1</th>\n",
       "      <th>2</th>\n",
       "      <th>3</th>\n",
       "      <th>4</th>\n",
       "      <th>5</th>\n",
       "      <th>6</th>\n",
       "      <th>7</th>\n",
       "      <th>8</th>\n",
       "      <th>9</th>\n",
       "      <th>10</th>\n",
       "      <th>...</th>\n",
       "      <th>193565</th>\n",
       "      <th>193567</th>\n",
       "      <th>193571</th>\n",
       "      <th>193573</th>\n",
       "      <th>193579</th>\n",
       "      <th>193581</th>\n",
       "      <th>193583</th>\n",
       "      <th>193585</th>\n",
       "      <th>193587</th>\n",
       "      <th>193609</th>\n",
       "    </tr>\n",
       "    <tr>\n",
       "      <th>userId</th>\n",
       "      <th></th>\n",
       "      <th></th>\n",
       "      <th></th>\n",
       "      <th></th>\n",
       "      <th></th>\n",
       "      <th></th>\n",
       "      <th></th>\n",
       "      <th></th>\n",
       "      <th></th>\n",
       "      <th></th>\n",
       "      <th></th>\n",
       "      <th></th>\n",
       "      <th></th>\n",
       "      <th></th>\n",
       "      <th></th>\n",
       "      <th></th>\n",
       "      <th></th>\n",
       "      <th></th>\n",
       "      <th></th>\n",
       "      <th></th>\n",
       "      <th></th>\n",
       "    </tr>\n",
       "  </thead>\n",
       "  <tbody>\n",
       "    <tr>\n",
       "      <th>1</th>\n",
       "      <td>4.0</td>\n",
       "      <td>0.0</td>\n",
       "      <td>4.0</td>\n",
       "      <td>0.0</td>\n",
       "      <td>0.0</td>\n",
       "      <td>4.0</td>\n",
       "      <td>0.0</td>\n",
       "      <td>0.0</td>\n",
       "      <td>0.0</td>\n",
       "      <td>0.0</td>\n",
       "      <td>...</td>\n",
       "      <td>0.0</td>\n",
       "      <td>0.0</td>\n",
       "      <td>0.0</td>\n",
       "      <td>0.0</td>\n",
       "      <td>0.0</td>\n",
       "      <td>0.0</td>\n",
       "      <td>0.0</td>\n",
       "      <td>0.0</td>\n",
       "      <td>0.0</td>\n",
       "      <td>0.0</td>\n",
       "    </tr>\n",
       "    <tr>\n",
       "      <th>2</th>\n",
       "      <td>0.0</td>\n",
       "      <td>0.0</td>\n",
       "      <td>0.0</td>\n",
       "      <td>0.0</td>\n",
       "      <td>0.0</td>\n",
       "      <td>0.0</td>\n",
       "      <td>0.0</td>\n",
       "      <td>0.0</td>\n",
       "      <td>0.0</td>\n",
       "      <td>0.0</td>\n",
       "      <td>...</td>\n",
       "      <td>0.0</td>\n",
       "      <td>0.0</td>\n",
       "      <td>0.0</td>\n",
       "      <td>0.0</td>\n",
       "      <td>0.0</td>\n",
       "      <td>0.0</td>\n",
       "      <td>0.0</td>\n",
       "      <td>0.0</td>\n",
       "      <td>0.0</td>\n",
       "      <td>0.0</td>\n",
       "    </tr>\n",
       "    <tr>\n",
       "      <th>3</th>\n",
       "      <td>0.0</td>\n",
       "      <td>0.0</td>\n",
       "      <td>0.0</td>\n",
       "      <td>0.0</td>\n",
       "      <td>0.0</td>\n",
       "      <td>0.0</td>\n",
       "      <td>0.0</td>\n",
       "      <td>0.0</td>\n",
       "      <td>0.0</td>\n",
       "      <td>0.0</td>\n",
       "      <td>...</td>\n",
       "      <td>0.0</td>\n",
       "      <td>0.0</td>\n",
       "      <td>0.0</td>\n",
       "      <td>0.0</td>\n",
       "      <td>0.0</td>\n",
       "      <td>0.0</td>\n",
       "      <td>0.0</td>\n",
       "      <td>0.0</td>\n",
       "      <td>0.0</td>\n",
       "      <td>0.0</td>\n",
       "    </tr>\n",
       "    <tr>\n",
       "      <th>4</th>\n",
       "      <td>0.0</td>\n",
       "      <td>0.0</td>\n",
       "      <td>0.0</td>\n",
       "      <td>0.0</td>\n",
       "      <td>0.0</td>\n",
       "      <td>0.0</td>\n",
       "      <td>0.0</td>\n",
       "      <td>0.0</td>\n",
       "      <td>0.0</td>\n",
       "      <td>0.0</td>\n",
       "      <td>...</td>\n",
       "      <td>0.0</td>\n",
       "      <td>0.0</td>\n",
       "      <td>0.0</td>\n",
       "      <td>0.0</td>\n",
       "      <td>0.0</td>\n",
       "      <td>0.0</td>\n",
       "      <td>0.0</td>\n",
       "      <td>0.0</td>\n",
       "      <td>0.0</td>\n",
       "      <td>0.0</td>\n",
       "    </tr>\n",
       "    <tr>\n",
       "      <th>5</th>\n",
       "      <td>4.0</td>\n",
       "      <td>0.0</td>\n",
       "      <td>0.0</td>\n",
       "      <td>0.0</td>\n",
       "      <td>0.0</td>\n",
       "      <td>0.0</td>\n",
       "      <td>0.0</td>\n",
       "      <td>0.0</td>\n",
       "      <td>0.0</td>\n",
       "      <td>0.0</td>\n",
       "      <td>...</td>\n",
       "      <td>0.0</td>\n",
       "      <td>0.0</td>\n",
       "      <td>0.0</td>\n",
       "      <td>0.0</td>\n",
       "      <td>0.0</td>\n",
       "      <td>0.0</td>\n",
       "      <td>0.0</td>\n",
       "      <td>0.0</td>\n",
       "      <td>0.0</td>\n",
       "      <td>0.0</td>\n",
       "    </tr>\n",
       "  </tbody>\n",
       "</table>\n",
       "<p>5 rows × 9724 columns</p>\n",
       "</div>"
      ],
      "text/plain": [
       "movieId  1       2       3       4       5       6       7       8       \\\n",
       "userId                                                                    \n",
       "1           4.0     0.0     4.0     0.0     0.0     4.0     0.0     0.0   \n",
       "2           0.0     0.0     0.0     0.0     0.0     0.0     0.0     0.0   \n",
       "3           0.0     0.0     0.0     0.0     0.0     0.0     0.0     0.0   \n",
       "4           0.0     0.0     0.0     0.0     0.0     0.0     0.0     0.0   \n",
       "5           4.0     0.0     0.0     0.0     0.0     0.0     0.0     0.0   \n",
       "\n",
       "movieId  9       10      ...  193565  193567  193571  193573  193579  193581  \\\n",
       "userId                   ...                                                   \n",
       "1           0.0     0.0  ...     0.0     0.0     0.0     0.0     0.0     0.0   \n",
       "2           0.0     0.0  ...     0.0     0.0     0.0     0.0     0.0     0.0   \n",
       "3           0.0     0.0  ...     0.0     0.0     0.0     0.0     0.0     0.0   \n",
       "4           0.0     0.0  ...     0.0     0.0     0.0     0.0     0.0     0.0   \n",
       "5           0.0     0.0  ...     0.0     0.0     0.0     0.0     0.0     0.0   \n",
       "\n",
       "movieId  193583  193585  193587  193609  \n",
       "userId                                   \n",
       "1           0.0     0.0     0.0     0.0  \n",
       "2           0.0     0.0     0.0     0.0  \n",
       "3           0.0     0.0     0.0     0.0  \n",
       "4           0.0     0.0     0.0     0.0  \n",
       "5           0.0     0.0     0.0     0.0  \n",
       "\n",
       "[5 rows x 9724 columns]"
      ]
     },
     "execution_count": 3,
     "metadata": {},
     "output_type": "execute_result"
    }
   ],
   "source": [
    "ratings_pivot_df = ratings_df.pivot(index='userId',columns='movieId',values='rating').fillna(0)\n",
    "ratings_pivot_df.head()"
   ]
  },
  {
   "cell_type": "code",
   "execution_count": 7,
   "id": "03fb2583",
   "metadata": {},
   "outputs": [
    {
     "name": "stdout",
     "output_type": "stream",
     "text": [
      "[[4.  0.  4.  ... 0.  0.  0. ]\n",
      " [0.  0.  0.  ... 0.  0.  0. ]\n",
      " [0.  0.  0.  ... 0.  0.  0. ]\n",
      " ...\n",
      " [2.5 2.  2.  ... 0.  0.  0. ]\n",
      " [3.  0.  0.  ... 0.  0.  0. ]\n",
      " [5.  0.  0.  ... 0.  0.  0. ]]\n"
     ]
    },
    {
     "data": {
      "text/plain": [
       "((610, 9724), None)"
      ]
     },
     "execution_count": 7,
     "metadata": {},
     "output_type": "execute_result"
    }
   ],
   "source": [
    "ratings_csr_matrix = sps.csr_matrix(ratings_pivot_df)\n",
    "ratings_pivot_df.shape, print(ratings_csr_matrix.todense()) #toarray returns an ndarray; todense returns a matrix."
   ]
  },
  {
   "cell_type": "markdown",
   "id": "ecae9106",
   "metadata": {},
   "source": [
    "### Definicije funkcija za podelu skupa, sortiranje, predvidjanje ocena i filtriranje matrice"
   ]
  },
  {
   "cell_type": "code",
   "execution_count": 8,
   "id": "3e89aa82",
   "metadata": {},
   "outputs": [],
   "source": [
    "# Podela datog skupa podataka na skup za trening i skup za test se u narednoj funkciji\n",
    "# vrsi tako sto se iz datog skupa \"uzima\" percentage % ocena koje se upisuju u test skup,\n",
    "# a uklanjaju iz trening skupa\n",
    "\n",
    "# parametar ratings_csr_matrix je skup podataka koji treba podeliti na trening i test skup\n",
    "# percentage je broj koji predstavlja procenat ocena koje ulaze u test skup\n",
    "\n",
    "def split_train_test(ratings_csr_matrix, percentage):\n",
    "    \n",
    "    test_ratings_number = percentage / 100\n",
    "    print(\"Odnos ocena u skupu za testiranje: \", percentage, \"%\")\n",
    "    print(\"Odnos ocena u skupu za treniranje: \", 100-percentage, \"%\")\n",
    "\n",
    "    total_ratings = ratings_csr_matrix.toarray()\n",
    "\n",
    "    dimensions_of_total_ratings = total_ratings.shape\n",
    "    print(\"Ukupan broj korisnika: \", dimensions_of_total_ratings[0])\n",
    "    print(\"Ukupan broj filmova: \", dimensions_of_total_ratings[1])\n",
    "\n",
    "    test = np.zeros(dimensions_of_total_ratings)\n",
    "    train = total_ratings.copy()\n",
    "\n",
    "    nonzero_ratings_per_row = (total_ratings != 0).sum(1)\n",
    "    print(\"Ukupan broj ne-nula ocena u svim redovima: \\n\", nonzero_ratings_per_row)\n",
    "    \n",
    "    for user in range(dimensions_of_total_ratings[0]):\n",
    "        \n",
    "        nonzero_test_ratings_per_user = int(np.ceil(test_ratings_number*nonzero_ratings_per_row[user])) # ispod - indeksi ne-nula elemenata\n",
    "        # print(\"Ukupan broj ne-nula ocena u test skupu po korisniku: \", nonzero_test_ratings_per_user)\n",
    "        \n",
    "        test_ratings = np.random.choice(total_ratings[user, :].nonzero()[0], size = nonzero_test_ratings_per_user, replace = False)\n",
    "\n",
    "        train[user, test_ratings] = 0 # izbacuju se iz trening skupa (upisuju se nule na odabranim pozicijama)\n",
    "\n",
    "        test[user, test_ratings] = total_ratings[user, test_ratings] # ubacuju se u test skup (upisuju se ocene iz polaznog skupa, koje su uklonjene iz trening skupa)\n",
    "        \n",
    "    if (not(np.all((train * test) == 0))):\n",
    "        print(\"Greska!\")\n",
    "    else:    \n",
    "        return sps.csr_matrix(train),sps.csr_matrix(test)"
   ]
  },
  {
   "cell_type": "code",
   "execution_count": 9,
   "id": "b1ca9ae4",
   "metadata": {},
   "outputs": [],
   "source": [
    "def sort_descending(li):\n",
    "    # reverse (Optional) - If True, the sorted list is reversed (or sorted in descending order).\n",
    "    # reverse = None (Sorts in Ascending order)\n",
    "    # key is set to sort using second element of \n",
    "    # sublist lambda has been used\n",
    "    li.sort(key = lambda x: x[0], reverse=True)\n",
    "    return li"
   ]
  },
  {
   "cell_type": "code",
   "execution_count": 10,
   "id": "9d4d5f23",
   "metadata": {},
   "outputs": [],
   "source": [
    "def item_based_ratings_prediction(u, i, movies_similarity, ratings, k = 5):        \n",
    "\n",
    "    neighbors = []\n",
    "    # print(\"Movies similarity shape: \", movies_similarity.shape)\n",
    "    similarities = list(zip(movies_similarity[i][:],range(movies_similarity.shape[0])))\n",
    "    \n",
    "    similarities_sorted = sort_descending(similarities)\n",
    "    \n",
    "    for i in range(1,k+1):\n",
    "        neighbors.append(similarities_sorted[i][1])\n",
    "        \n",
    "    rated_i = ratings[:, i].nonzero()[0]\n",
    "        \n",
    "    item_i_mean = 0\n",
    "    item_i_mean = (ratings[:, i].toarray()[0]).sum()\n",
    "    \n",
    "    if len(rated_i) != 0:\n",
    "        item_i_mean = item_i_mean / len(rated_i)\n",
    "        \n",
    "    numerator, denominator = 0.0, 0.0\n",
    "        \n",
    "    for j in neighbors:\n",
    "        rated_j = ratings[:, j].nonzero()[0]\n",
    "        item_j_mean = 0\n",
    "        \n",
    "        if len(rated_j) != 0:\n",
    "            arr2 = ratings[:, j].toarray()[0]\n",
    "            item_j_mean = arr2.sum()\n",
    "            item_j_mean = item_j_mean / len(rated_j)\n",
    "        \n",
    "        r_uj = ratings[u,j]\n",
    "        numerator += movies_similarity[i][j]*(r_uj - item_j_mean)\n",
    "        denominator += movies_similarity[i][j]\n",
    "        \n",
    "    return item_i_mean + numerator/denominator"
   ]
  },
  {
   "cell_type": "code",
   "execution_count": 11,
   "id": "47be524f",
   "metadata": {},
   "outputs": [],
   "source": [
    "def filter_matrix(matrix, n): # Filtriranje podataka (ostaju samo redovi korisnika koji su glasali vise od n puta)\n",
    "    ratings_array = matrix.toarray()\n",
    "    ratings_matrix_filtered = []\n",
    "    for row in ratings_array:\n",
    "        sum = 0\n",
    "        nonzero_count = np.count_nonzero(row)\n",
    "        if (nonzero_count > n):\n",
    "            ratings_matrix_filtered.append(row)\n",
    "    ratings_matrix_filtered_shape = np.vstack(ratings_matrix_filtered).shape\n",
    "    print(\"Dimenzije filtrirane matrice ocena su: \", ratings_matrix_filtered_shape)\n",
    "    return np.vstack(ratings_matrix_filtered)"
   ]
  },
  {
   "cell_type": "markdown",
   "id": "e52c39ac",
   "metadata": {},
   "source": [
    "### Redukcija, filtriranje i podela skupa podataka (matrice ocena) na skupove za trening i test"
   ]
  },
  {
   "cell_type": "code",
   "execution_count": 12,
   "id": "79264be8",
   "metadata": {},
   "outputs": [
    {
     "name": "stdout",
     "output_type": "stream",
     "text": [
      "Dimenzije redukovane matrice ocena su:  (83, 900)\n",
      "Dimenzije filtrirane matrice ocena su:  (10, 900)\n",
      "[[0.  4.  5.  ... 0.  0.  0. ]\n",
      " [4.  3.  3.  ... 4.  5.  5. ]\n",
      " [5.  0.  0.  ... 0.  0.  0. ]\n",
      " ...\n",
      " [0.  0.  3.  ... 0.  0.  0. ]\n",
      " [4.  0.  3.5 ... 3.5 4.5 0. ]\n",
      " [2.5 2.5 2.  ... 5.  5.  5. ]]\n",
      "Odnos ocena u skupu za testiranje:  20 %\n",
      "Odnos ocena u skupu za treniranje:  80 %\n",
      "Ukupan broj korisnika:  10\n",
      "Ukupan broj filmova:  900\n",
      "Ukupan broj ne-nula ocena u svim redovima: \n",
      " [314 212 103 136 113 114 167 112 119 189]\n"
     ]
    }
   ],
   "source": [
    "# Redukcija matrice ocena\n",
    "ratings_csr_reduced = ratings_csr_matrix[:83, :900]\n",
    "print(\"Dimenzije redukovane matrice ocena su: \", ratings_csr_reduced.shape)\n",
    "\n",
    "# Filtriranje matrice ocena tako da ostanu korisnici koji su ocenili preko 100 filmova\n",
    "filtered_matrix = filter_matrix(ratings_csr_reduced, n = 100)\n",
    "print(filtered_matrix)\n",
    "\n",
    "# Podela skupa na train_and_validation i test\n",
    "filtered_ratings_csr_matrix = sps.csr_matrix(filtered_matrix)\n",
    "train_and_validation, test = split_train_test(filtered_ratings_csr_matrix, 20)"
   ]
  },
  {
   "cell_type": "code",
   "execution_count": 13,
   "id": "950a7e10",
   "metadata": {},
   "outputs": [
    {
     "name": "stdout",
     "output_type": "stream",
     "text": [
      "Odnos ocena u skupu za testiranje:  30 %\n",
      "Odnos ocena u skupu za treniranje:  70 %\n",
      "Ukupan broj korisnika:  10\n",
      "Ukupan broj filmova:  900\n",
      "Ukupan broj ne-nula ocena u svim redovima: \n",
      " [251 169  82 108  90  91 133  89  95 151]\n"
     ]
    }
   ],
   "source": [
    "# Podela skupa train_and_validation na skupove train i validation\n",
    "train, validation = split_train_test(train_and_validation, 30)"
   ]
  },
  {
   "cell_type": "code",
   "execution_count": 14,
   "id": "3402e62f",
   "metadata": {},
   "outputs": [
    {
     "name": "stdout",
     "output_type": "stream",
     "text": [
      "Dimenzije train skupa:  (10, 900)\n"
     ]
    }
   ],
   "source": [
    "print('Dimenzije train skupa: ', train.shape)"
   ]
  },
  {
   "cell_type": "markdown",
   "id": "94d4dbd7",
   "metadata": {},
   "source": [
    "### Racunanje matrice slicnosti"
   ]
  },
  {
   "cell_type": "code",
   "execution_count": 15,
   "id": "1c87e531",
   "metadata": {},
   "outputs": [],
   "source": [
    "# Kreiranje matrice slicnosti za filmove\n",
    "similarity = cosine_similarity(train.T) + 0.000000003"
   ]
  },
  {
   "cell_type": "markdown",
   "id": "1f405e55",
   "metadata": {},
   "source": [
    "### Racunanje odziva"
   ]
  },
  {
   "cell_type": "code",
   "execution_count": 16,
   "id": "043ea651",
   "metadata": {},
   "outputs": [
    {
     "name": "stdout",
     "output_type": "stream",
     "text": [
      "Broj ocena razlicitih od 0 za usera ciji je id = 1 je 118.\n"
     ]
    }
   ],
   "source": [
    "# broj ocena razlicitih od 0 u izdvojenom train skupu za usera ciji je id = 1\n",
    "user_id = 1\n",
    "sum = 0\n",
    "for i in range(train.shape[1]):\n",
    "    if train[user_id,i] != 0.0:\n",
    "        sum += 1\n",
    "print('Broj ocena razlicitih od 0 za usera ciji je id = {} je {}.'.format(user_id, sum))\n",
    "\n",
    "# Kraci zapis\n",
    "# np.count_nonzero(train[1].toarray())"
   ]
  },
  {
   "cell_type": "code",
   "execution_count": 17,
   "id": "e9be80cc",
   "metadata": {},
   "outputs": [
    {
     "name": "stdout",
     "output_type": "stream",
     "text": [
      "Ocena korisnika ciji je id = 1 za film sa id-jem 686 je 1.3333333333333333.\n"
     ]
    }
   ],
   "source": [
    "# Primer: ocena za user_id = 1 i movie_id = 686\n",
    "user_id = 1\n",
    "movie_id = 686\n",
    "score = item_based_ratings_prediction(user_id, movie_id, similarity , train, k=1)\n",
    "print('Ocena korisnika ciji je id = {} za film sa id-jem {} je {}.'.format(user_id, movie_id, score))"
   ]
  },
  {
   "cell_type": "code",
   "execution_count": 18,
   "id": "20e6ad80",
   "metadata": {},
   "outputs": [],
   "source": [
    "def get_predicted_movies_ids_and_scores(ratings_m, similarity, k, u_id, limit_score):\n",
    "    # Recnik oblika {id_filma_1: ocena_1, id_filma_2: ocena_2, ...} za korisnika ciji je id = user_id\n",
    "    dicts = {}\n",
    "\n",
    "    keys = range(ratings_m.shape[1])\n",
    "\n",
    "    for i in keys:\n",
    "        dicts[i] = item_based_ratings_prediction(u_id, i, similarity, ratings_m, k)\n",
    "\n",
    "    dicts_asc = {k: v for k, v in sorted(dicts.items(), key=lambda item: item[1])}\n",
    "\n",
    "    # Predvidjene ocene vece od m\n",
    "    movies_ids= []\n",
    "    predicted_scores_values = []\n",
    "    print('Predvidjene ocene vece od ', limit_score)\n",
    "    for c in reversed(dicts_asc):\n",
    "        if (dicts_asc[c] >= limit_score):\n",
    "            tmp = np.round(dicts_asc[c])\n",
    "            print(c, tmp)\n",
    "            movies_ids.append(c)\n",
    "            predicted_scores_values.append(tmp)\n",
    "\n",
    "    return movies_ids, predicted_scores_values, dicts_asc"
   ]
  },
  {
   "cell_type": "code",
   "execution_count": 19,
   "id": "acb2619a",
   "metadata": {},
   "outputs": [],
   "source": [
    "def get_all_actual_scores_for_user(ratings_m, u_id):\n",
    "    dict_actual = {}\n",
    "\n",
    "    keys = range(ratings_m.shape[1])\n",
    "    for i in keys:\n",
    "        dict_actual[i] = ratings_m[1, i]\n",
    "\n",
    "    dict_actual_asc = {k: v for k, v in sorted(dict_actual.items(), key=lambda item: item[1])}\n",
    "    return dict_actual_asc"
   ]
  },
  {
   "cell_type": "code",
   "execution_count": 20,
   "id": "a62b9022",
   "metadata": {},
   "outputs": [],
   "source": [
    "def get_atual_scores_list(movies_indices, ratings_m, u_id):\n",
    "    actual_for_predicted_scores = ratings_m[1, movies_indices].toarray()\n",
    "    actual_for_predicted_scores_lst = list(actual_for_predicted_scores[0])\n",
    "    return actual_for_predicted_scores_lst"
   ]
  },
  {
   "cell_type": "code",
   "execution_count": 21,
   "id": "ebd1ebf0",
   "metadata": {},
   "outputs": [],
   "source": [
    "def calculate_recall(ratings_m, similarity, k = 5, u_id = 1, limit_score = 4.5):\n",
    "    movies_indices, predicted_scores_values, dicts_asc = get_predicted_movies_ids_and_scores(ratings_m, similarity, k, u_id, limit_score)\n",
    "    print('Indeksi filmova cije su predvidjene ocene vece od {} su {}.'.format(limit_score, movies_indices))\n",
    "\n",
    "    actual_ratings = get_all_actual_scores_for_user(ratings_m, u_id)\n",
    "\n",
    "    actual_scores_lst = get_atual_scores_list(movies_indices, ratings_m, u_id)\n",
    "    print('Prave ocene na datim indeksima: ', actual_scores_lst)\n",
    "\n",
    "    movies_filtered_indices = []\n",
    "    movies_filtered_ratings = []\n",
    "    for i in movies_indices:\n",
    "        if ratings_m[1, i] > 0:\n",
    "            movies_filtered_indices.append(i)\n",
    "            movies_filtered_ratings.append(ratings_m[1, i])\n",
    "    print('Filtrirani indeksi (ocene vece od 0): ', movies_filtered_indices)\n",
    "    print('Filtrirane ocene (vece od 0): ', movies_filtered_ratings)\n",
    "    \n",
    "    predicted_filtered_scores = []\n",
    "    for key in dicts_asc:\n",
    "        if key in movies_filtered_indices:\n",
    "            predicted_filtered_scores.append(np.round(dicts_asc[key]))\n",
    "    \n",
    "    print('Filtrirane predvidjene ocene: ', predicted_filtered_scores)\n",
    "    \n",
    "    num_of_relevant_recommended_items = np.count_nonzero((np.array(movies_filtered_ratings) == np.array(predicted_filtered_scores))*1)\n",
    "    recall = num_of_relevant_recommended_items/len(predicted_filtered_scores)\n",
    "    return recall"
   ]
  },
  {
   "cell_type": "code",
   "execution_count": 22,
   "id": "be44c5ff",
   "metadata": {},
   "outputs": [
    {
     "name": "stdout",
     "output_type": "stream",
     "text": [
      "Predvidjene ocene vece od  3\n",
      "472 5.0\n",
      "422 4.0\n",
      "254 4.0\n",
      "116 4.0\n",
      "334 4.0\n",
      "606 3.0\n",
      "862 3.0\n",
      "507 3.0\n",
      "224 3.0\n",
      "857 3.0\n",
      "695 3.0\n",
      "560 3.0\n",
      "559 3.0\n",
      "558 3.0\n",
      "217 3.0\n",
      "618 3.0\n",
      "Indeksi filmova cije su predvidjene ocene vece od 3 su [472, 422, 254, 116, 334, 606, 862, 507, 224, 857, 695, 560, 559, 558, 217, 618].\n",
      "Prave ocene na datim indeksima:  [3.0, 2.0, 4.0, 1.0, 4.0, 3.0, 3.0, 5.0, 4.0, 3.0, 5.0, 4.0, 1.0, 2.0, 3.0, 4.0]\n",
      "Filtrirani indeksi (ocene vece od 0):  [472, 422, 254, 116, 334, 606, 862, 507, 224, 857, 695, 560, 559, 558, 217, 618]\n",
      "Filtrirane ocene (vece od 0):  [3.0, 2.0, 4.0, 1.0, 4.0, 3.0, 3.0, 5.0, 4.0, 3.0, 5.0, 4.0, 1.0, 2.0, 3.0, 4.0]\n",
      "Filtrirane predvidjene ocene:  [3.0, 3.0, 3.0, 3.0, 3.0, 3.0, 3.0, 3.0, 3.0, 3.0, 3.0, 4.0, 4.0, 4.0, 4.0, 5.0]\n",
      "Recall:  0.3125\n"
     ]
    }
   ],
   "source": [
    "recall_value = calculate_recall(train, similarity, k = 5, u_id = 1, limit_score = 3)\n",
    "print('Recall: ', recall_value)"
   ]
  },
  {
   "cell_type": "code",
   "execution_count": 23,
   "id": "5cb0c057",
   "metadata": {},
   "outputs": [],
   "source": [
    "# 3.5 = 4 a treba da ostane 3.5 jer i ocene tog oblika postoje"
   ]
  }
 ],
 "metadata": {
  "kernelspec": {
   "display_name": "Python 3",
   "language": "python",
   "name": "python3"
  },
  "language_info": {
   "codemirror_mode": {
    "name": "ipython",
    "version": 3
   },
   "file_extension": ".py",
   "mimetype": "text/x-python",
   "name": "python",
   "nbconvert_exporter": "python",
   "pygments_lexer": "ipython3",
   "version": "3.9.5"
  }
 },
 "nbformat": 4,
 "nbformat_minor": 5
}
