{
 "cells": [
  {
   "cell_type": "code",
   "execution_count": 2,
   "id": "cc144763",
   "metadata": {},
   "outputs": [],
   "source": [
    "import numpy as np\n",
    "import pandas as pd\n",
    "import os\n",
    "import matplotlib.pyplot as plt\n",
    "plt.style.use('ggplot')"
   ]
  },
  {
   "cell_type": "markdown",
   "id": "b52f7d69",
   "metadata": {},
   "source": [
    "### Učitavanje podataka"
   ]
  },
  {
   "cell_type": "code",
   "execution_count": 3,
   "id": "6c1bf4d2",
   "metadata": {},
   "outputs": [],
   "source": [
    "data_path = 'datasets/'\n",
    "movies_filename = 'movies.csv'\n",
    "ratings_filename = 'ratings.csv'\n",
    "\n",
    "movies_df = pd.read_csv(os.path.join(data_path, movies_filename), usecols=['movieId', 'title'], dtype={'movieId': 'int32', 'title': 'str'})\n",
    "ratings_df = pd.read_csv(os.path.join(data_path, ratings_filename), usecols=['userId', 'movieId', 'rating'], dtype={'userId': 'int32', 'movieId': 'int32', 'rating': 'float32'})"
   ]
  },
  {
   "cell_type": "markdown",
   "id": "6d04d9bf",
   "metadata": {},
   "source": [
    "### Prikaz i opis podataka movies_df"
   ]
  },
  {
   "cell_type": "code",
   "execution_count": 4,
   "id": "beb2258b",
   "metadata": {},
   "outputs": [
    {
     "data": {
      "text/html": [
       "<div>\n",
       "<style scoped>\n",
       "    .dataframe tbody tr th:only-of-type {\n",
       "        vertical-align: middle;\n",
       "    }\n",
       "\n",
       "    .dataframe tbody tr th {\n",
       "        vertical-align: top;\n",
       "    }\n",
       "\n",
       "    .dataframe thead th {\n",
       "        text-align: right;\n",
       "    }\n",
       "</style>\n",
       "<table border=\"1\" class=\"dataframe\">\n",
       "  <thead>\n",
       "    <tr style=\"text-align: right;\">\n",
       "      <th></th>\n",
       "      <th>movieId</th>\n",
       "      <th>title</th>\n",
       "    </tr>\n",
       "  </thead>\n",
       "  <tbody>\n",
       "    <tr>\n",
       "      <th>0</th>\n",
       "      <td>1</td>\n",
       "      <td>Toy Story (1995)</td>\n",
       "    </tr>\n",
       "    <tr>\n",
       "      <th>1</th>\n",
       "      <td>2</td>\n",
       "      <td>Jumanji (1995)</td>\n",
       "    </tr>\n",
       "    <tr>\n",
       "      <th>2</th>\n",
       "      <td>3</td>\n",
       "      <td>Grumpier Old Men (1995)</td>\n",
       "    </tr>\n",
       "    <tr>\n",
       "      <th>3</th>\n",
       "      <td>4</td>\n",
       "      <td>Waiting to Exhale (1995)</td>\n",
       "    </tr>\n",
       "    <tr>\n",
       "      <th>4</th>\n",
       "      <td>5</td>\n",
       "      <td>Father of the Bride Part II (1995)</td>\n",
       "    </tr>\n",
       "  </tbody>\n",
       "</table>\n",
       "</div>"
      ],
      "text/plain": [
       "   movieId                               title\n",
       "0        1                    Toy Story (1995)\n",
       "1        2                      Jumanji (1995)\n",
       "2        3             Grumpier Old Men (1995)\n",
       "3        4            Waiting to Exhale (1995)\n",
       "4        5  Father of the Bride Part II (1995)"
      ]
     },
     "execution_count": 4,
     "metadata": {},
     "output_type": "execute_result"
    }
   ],
   "source": [
    "movies_df.head()"
   ]
  },
  {
   "cell_type": "code",
   "execution_count": 6,
   "id": "679cb81e",
   "metadata": {},
   "outputs": [
    {
     "data": {
      "text/plain": [
       "(9742, 2)"
      ]
     },
     "execution_count": 6,
     "metadata": {},
     "output_type": "execute_result"
    }
   ],
   "source": [
    "movies_df.shape"
   ]
  },
  {
   "cell_type": "code",
   "execution_count": 5,
   "id": "df5e964c",
   "metadata": {},
   "outputs": [
    {
     "data": {
      "text/html": [
       "<div>\n",
       "<style scoped>\n",
       "    .dataframe tbody tr th:only-of-type {\n",
       "        vertical-align: middle;\n",
       "    }\n",
       "\n",
       "    .dataframe tbody tr th {\n",
       "        vertical-align: top;\n",
       "    }\n",
       "\n",
       "    .dataframe thead th {\n",
       "        text-align: right;\n",
       "    }\n",
       "</style>\n",
       "<table border=\"1\" class=\"dataframe\">\n",
       "  <thead>\n",
       "    <tr style=\"text-align: right;\">\n",
       "      <th></th>\n",
       "      <th>movieId</th>\n",
       "    </tr>\n",
       "  </thead>\n",
       "  <tbody>\n",
       "    <tr>\n",
       "      <th>count</th>\n",
       "      <td>9742.000000</td>\n",
       "    </tr>\n",
       "    <tr>\n",
       "      <th>mean</th>\n",
       "      <td>42200.353623</td>\n",
       "    </tr>\n",
       "    <tr>\n",
       "      <th>std</th>\n",
       "      <td>52160.494854</td>\n",
       "    </tr>\n",
       "    <tr>\n",
       "      <th>min</th>\n",
       "      <td>1.000000</td>\n",
       "    </tr>\n",
       "    <tr>\n",
       "      <th>25%</th>\n",
       "      <td>3248.250000</td>\n",
       "    </tr>\n",
       "    <tr>\n",
       "      <th>50%</th>\n",
       "      <td>7300.000000</td>\n",
       "    </tr>\n",
       "    <tr>\n",
       "      <th>75%</th>\n",
       "      <td>76232.000000</td>\n",
       "    </tr>\n",
       "    <tr>\n",
       "      <th>max</th>\n",
       "      <td>193609.000000</td>\n",
       "    </tr>\n",
       "  </tbody>\n",
       "</table>\n",
       "</div>"
      ],
      "text/plain": [
       "             movieId\n",
       "count    9742.000000\n",
       "mean    42200.353623\n",
       "std     52160.494854\n",
       "min         1.000000\n",
       "25%      3248.250000\n",
       "50%      7300.000000\n",
       "75%     76232.000000\n",
       "max    193609.000000"
      ]
     },
     "execution_count": 5,
     "metadata": {},
     "output_type": "execute_result"
    }
   ],
   "source": [
    "movies_df.describe()"
   ]
  },
  {
   "cell_type": "markdown",
   "id": "0d97b865",
   "metadata": {},
   "source": [
    "### Prikaz i opis podataka ratings_df"
   ]
  },
  {
   "cell_type": "code",
   "execution_count": 7,
   "id": "c7c13398",
   "metadata": {},
   "outputs": [
    {
     "data": {
      "text/html": [
       "<div>\n",
       "<style scoped>\n",
       "    .dataframe tbody tr th:only-of-type {\n",
       "        vertical-align: middle;\n",
       "    }\n",
       "\n",
       "    .dataframe tbody tr th {\n",
       "        vertical-align: top;\n",
       "    }\n",
       "\n",
       "    .dataframe thead th {\n",
       "        text-align: right;\n",
       "    }\n",
       "</style>\n",
       "<table border=\"1\" class=\"dataframe\">\n",
       "  <thead>\n",
       "    <tr style=\"text-align: right;\">\n",
       "      <th></th>\n",
       "      <th>userId</th>\n",
       "      <th>movieId</th>\n",
       "      <th>rating</th>\n",
       "    </tr>\n",
       "  </thead>\n",
       "  <tbody>\n",
       "    <tr>\n",
       "      <th>0</th>\n",
       "      <td>1</td>\n",
       "      <td>1</td>\n",
       "      <td>4.0</td>\n",
       "    </tr>\n",
       "    <tr>\n",
       "      <th>1</th>\n",
       "      <td>1</td>\n",
       "      <td>3</td>\n",
       "      <td>4.0</td>\n",
       "    </tr>\n",
       "    <tr>\n",
       "      <th>2</th>\n",
       "      <td>1</td>\n",
       "      <td>6</td>\n",
       "      <td>4.0</td>\n",
       "    </tr>\n",
       "    <tr>\n",
       "      <th>3</th>\n",
       "      <td>1</td>\n",
       "      <td>47</td>\n",
       "      <td>5.0</td>\n",
       "    </tr>\n",
       "    <tr>\n",
       "      <th>4</th>\n",
       "      <td>1</td>\n",
       "      <td>50</td>\n",
       "      <td>5.0</td>\n",
       "    </tr>\n",
       "  </tbody>\n",
       "</table>\n",
       "</div>"
      ],
      "text/plain": [
       "   userId  movieId  rating\n",
       "0       1        1     4.0\n",
       "1       1        3     4.0\n",
       "2       1        6     4.0\n",
       "3       1       47     5.0\n",
       "4       1       50     5.0"
      ]
     },
     "execution_count": 7,
     "metadata": {},
     "output_type": "execute_result"
    }
   ],
   "source": [
    "ratings_df.head()"
   ]
  },
  {
   "cell_type": "code",
   "execution_count": 8,
   "id": "3ed31573",
   "metadata": {},
   "outputs": [
    {
     "data": {
      "text/plain": [
       "(100836, 3)"
      ]
     },
     "execution_count": 8,
     "metadata": {},
     "output_type": "execute_result"
    }
   ],
   "source": [
    "ratings_df.shape"
   ]
  },
  {
   "cell_type": "code",
   "execution_count": 9,
   "id": "9a88dbfd",
   "metadata": {},
   "outputs": [
    {
     "data": {
      "text/html": [
       "<div>\n",
       "<style scoped>\n",
       "    .dataframe tbody tr th:only-of-type {\n",
       "        vertical-align: middle;\n",
       "    }\n",
       "\n",
       "    .dataframe tbody tr th {\n",
       "        vertical-align: top;\n",
       "    }\n",
       "\n",
       "    .dataframe thead th {\n",
       "        text-align: right;\n",
       "    }\n",
       "</style>\n",
       "<table border=\"1\" class=\"dataframe\">\n",
       "  <thead>\n",
       "    <tr style=\"text-align: right;\">\n",
       "      <th></th>\n",
       "      <th>userId</th>\n",
       "      <th>movieId</th>\n",
       "      <th>rating</th>\n",
       "    </tr>\n",
       "  </thead>\n",
       "  <tbody>\n",
       "    <tr>\n",
       "      <th>count</th>\n",
       "      <td>100836.000000</td>\n",
       "      <td>100836.000000</td>\n",
       "      <td>100836.000000</td>\n",
       "    </tr>\n",
       "    <tr>\n",
       "      <th>mean</th>\n",
       "      <td>326.127564</td>\n",
       "      <td>19435.295718</td>\n",
       "      <td>3.501557</td>\n",
       "    </tr>\n",
       "    <tr>\n",
       "      <th>std</th>\n",
       "      <td>182.618491</td>\n",
       "      <td>35530.987199</td>\n",
       "      <td>1.042541</td>\n",
       "    </tr>\n",
       "    <tr>\n",
       "      <th>min</th>\n",
       "      <td>1.000000</td>\n",
       "      <td>1.000000</td>\n",
       "      <td>0.500000</td>\n",
       "    </tr>\n",
       "    <tr>\n",
       "      <th>25%</th>\n",
       "      <td>177.000000</td>\n",
       "      <td>1199.000000</td>\n",
       "      <td>3.000000</td>\n",
       "    </tr>\n",
       "    <tr>\n",
       "      <th>50%</th>\n",
       "      <td>325.000000</td>\n",
       "      <td>2991.000000</td>\n",
       "      <td>3.500000</td>\n",
       "    </tr>\n",
       "    <tr>\n",
       "      <th>75%</th>\n",
       "      <td>477.000000</td>\n",
       "      <td>8122.000000</td>\n",
       "      <td>4.000000</td>\n",
       "    </tr>\n",
       "    <tr>\n",
       "      <th>max</th>\n",
       "      <td>610.000000</td>\n",
       "      <td>193609.000000</td>\n",
       "      <td>5.000000</td>\n",
       "    </tr>\n",
       "  </tbody>\n",
       "</table>\n",
       "</div>"
      ],
      "text/plain": [
       "              userId        movieId         rating\n",
       "count  100836.000000  100836.000000  100836.000000\n",
       "mean      326.127564   19435.295718       3.501557\n",
       "std       182.618491   35530.987199       1.042541\n",
       "min         1.000000       1.000000       0.500000\n",
       "25%       177.000000    1199.000000       3.000000\n",
       "50%       325.000000    2991.000000       3.500000\n",
       "75%       477.000000    8122.000000       4.000000\n",
       "max       610.000000  193609.000000       5.000000"
      ]
     },
     "execution_count": 9,
     "metadata": {},
     "output_type": "execute_result"
    }
   ],
   "source": [
    "ratings_df.describe()"
   ]
  },
  {
   "cell_type": "code",
   "execution_count": 11,
   "id": "3e56c914",
   "metadata": {},
   "outputs": [
    {
     "name": "stdout",
     "output_type": "stream",
     "text": [
      "<class 'pandas.core.frame.DataFrame'>\n",
      "RangeIndex: 100836 entries, 0 to 100835\n",
      "Data columns (total 3 columns):\n",
      " #   Column   Non-Null Count   Dtype  \n",
      "---  ------   --------------   -----  \n",
      " 0   userId   100836 non-null  int32  \n",
      " 1   movieId  100836 non-null  int32  \n",
      " 2   rating   100836 non-null  float32\n",
      "dtypes: float32(1), int32(2)\n",
      "memory usage: 1.2 MB\n"
     ]
    }
   ],
   "source": [
    "ratings_df.info()"
   ]
  },
  {
   "cell_type": "code",
   "execution_count": 12,
   "id": "dfb6f57d",
   "metadata": {},
   "outputs": [
    {
     "data": {
      "text/plain": [
       "array([[<AxesSubplot:title={'center':'userId'}>,\n",
       "        <AxesSubplot:title={'center':'movieId'}>],\n",
       "       [<AxesSubplot:title={'center':'rating'}>, <AxesSubplot:>]],\n",
       "      dtype=object)"
      ]
     },
     "execution_count": 12,
     "metadata": {},
     "output_type": "execute_result"
    },
    {
     "data": {
      "image/png": "[encoded data removed]",
      "text/plain": [
       "<Figure size 1080x1080 with 4 Axes>"
      ]
     },
     "metadata": {},
     "output_type": "display_data"
    }
   ],
   "source": [
    "ratings_df.hist(figsize = [15,15])"
   ]
  },
  {
   "cell_type": "markdown",
   "id": "44080b19",
   "metadata": {},
   "source": [
    "### Broj glasova, prosečna ocena"
   ]
  },
  {
   "cell_type": "code",
   "execution_count": 9,
   "id": "7b8e93cc",
   "metadata": {},
   "outputs": [
    {
     "data": {
      "text/html": [
       "<div>\n",
       "<style scoped>\n",
       "    .dataframe tbody tr th:only-of-type {\n",
       "        vertical-align: middle;\n",
       "    }\n",
       "\n",
       "    .dataframe tbody tr th {\n",
       "        vertical-align: top;\n",
       "    }\n",
       "\n",
       "    .dataframe thead th {\n",
       "        text-align: right;\n",
       "    }\n",
       "</style>\n",
       "<table border=\"1\" class=\"dataframe\">\n",
       "  <thead>\n",
       "    <tr style=\"text-align: right;\">\n",
       "      <th></th>\n",
       "      <th>movieId</th>\n",
       "      <th>title</th>\n",
       "      <th>countVotes</th>\n",
       "      <th>averageVotes</th>\n",
       "    </tr>\n",
       "  </thead>\n",
       "  <tbody>\n",
       "    <tr>\n",
       "      <th>0</th>\n",
       "      <td>1</td>\n",
       "      <td>Toy Story (1995)</td>\n",
       "      <td>215</td>\n",
       "      <td>3.920930</td>\n",
       "    </tr>\n",
       "    <tr>\n",
       "      <th>1</th>\n",
       "      <td>2</td>\n",
       "      <td>Jumanji (1995)</td>\n",
       "      <td>52</td>\n",
       "      <td>3.259615</td>\n",
       "    </tr>\n",
       "    <tr>\n",
       "      <th>2</th>\n",
       "      <td>3</td>\n",
       "      <td>Grumpier Old Men (1995)</td>\n",
       "      <td>102</td>\n",
       "      <td>3.946079</td>\n",
       "    </tr>\n",
       "    <tr>\n",
       "      <th>3</th>\n",
       "      <td>4</td>\n",
       "      <td>Waiting to Exhale (1995)</td>\n",
       "      <td>203</td>\n",
       "      <td>3.975369</td>\n",
       "    </tr>\n",
       "    <tr>\n",
       "      <th>4</th>\n",
       "      <td>5</td>\n",
       "      <td>Father of the Bride Part II (1995)</td>\n",
       "      <td>204</td>\n",
       "      <td>4.237745</td>\n",
       "    </tr>\n",
       "  </tbody>\n",
       "</table>\n",
       "</div>"
      ],
      "text/plain": [
       "   movieId                               title  countVotes  averageVotes\n",
       "0        1                    Toy Story (1995)         215      3.920930\n",
       "1        2                      Jumanji (1995)          52      3.259615\n",
       "2        3             Grumpier Old Men (1995)         102      3.946079\n",
       "3        4            Waiting to Exhale (1995)         203      3.975369\n",
       "4        5  Father of the Bride Part II (1995)         204      4.237745"
      ]
     },
     "execution_count": 9,
     "metadata": {},
     "output_type": "execute_result"
    }
   ],
   "source": [
    "movies_votes_df = movies_df.copy()\n",
    "movies_votes_df['countVotes']=ratings_df.groupby('movieId')['movieId'].transform('count')\n",
    "movies_votes_df['averageVotes']=ratings_df.groupby('movieId')['rating'].transform('mean')\n",
    "movies_votes_df.head()"
   ]
  },
  {
   "cell_type": "markdown",
   "id": "ac516eab",
   "metadata": {},
   "source": [
    "Najjednostavniji sistemi preporuka zasnovani su na ideji da najpopularnije stavke (to mogu biti stavke koje su ocenjene najvišom ocenom ili stavke koje su dobile najveći broj ocena ili oba) imaju veću verovatnoću da se dopadnu prosečnim korisnicima. Naime, oni različitim korisnicima nude uopštenu preporuku, bez obzira na ocene koje je svaki korisnik dao u prošlosti. Ovo su sistemi preporuka zasnovani na popularnosti (eng. popularity based recommender systems), i oni neće biti razmatrani u ovom radu. Ipak, radi sticanja uvida u skup podataka sa kojim se raspolaže, biće prikazani filmovi koji su dobili najviše prosečne ocene kao i filmovi koji su dobili najviše ocena, odnosno glasova. U prvom slučaju biće prikazano 20, a u drugom 40 filmova, da bi se videla raznovrsnost ocena, odnosno broja ocena."
   ]
  },
  {
   "cell_type": "code",
   "execution_count": 10,
   "id": "9b3a02c9",
   "metadata": {},
   "outputs": [
    {
     "data": {
      "text/html": [
       "<div>\n",
       "<style scoped>\n",
       "    .dataframe tbody tr th:only-of-type {\n",
       "        vertical-align: middle;\n",
       "    }\n",
       "\n",
       "    .dataframe tbody tr th {\n",
       "        vertical-align: top;\n",
       "    }\n",
       "\n",
       "    .dataframe thead th {\n",
       "        text-align: right;\n",
       "    }\n",
       "</style>\n",
       "<table border=\"1\" class=\"dataframe\">\n",
       "  <thead>\n",
       "    <tr style=\"text-align: right;\">\n",
       "      <th></th>\n",
       "      <th>movieId</th>\n",
       "      <th>title</th>\n",
       "      <th>countVotes</th>\n",
       "      <th>averageVotes</th>\n",
       "    </tr>\n",
       "  </thead>\n",
       "  <tbody>\n",
       "    <tr>\n",
       "      <th>8658</th>\n",
       "      <td>120919</td>\n",
       "      <td>Man on High Heels (2014)</td>\n",
       "      <td>2</td>\n",
       "      <td>5.000000</td>\n",
       "    </tr>\n",
       "    <tr>\n",
       "      <th>9414</th>\n",
       "      <td>165529</td>\n",
       "      <td>Flowers for Algernon (2000)</td>\n",
       "      <td>1</td>\n",
       "      <td>5.000000</td>\n",
       "    </tr>\n",
       "    <tr>\n",
       "      <th>294</th>\n",
       "      <td>336</td>\n",
       "      <td>Walking Dead, The (1995)</td>\n",
       "      <td>1</td>\n",
       "      <td>5.000000</td>\n",
       "    </tr>\n",
       "    <tr>\n",
       "      <th>8686</th>\n",
       "      <td>122892</td>\n",
       "      <td>Avengers: Age of Ultron (2015)</td>\n",
       "      <td>1</td>\n",
       "      <td>5.000000</td>\n",
       "    </tr>\n",
       "    <tr>\n",
       "      <th>9407</th>\n",
       "      <td>165101</td>\n",
       "      <td>Inferno (2016)</td>\n",
       "      <td>1</td>\n",
       "      <td>5.000000</td>\n",
       "    </tr>\n",
       "    <tr>\n",
       "      <th>8698</th>\n",
       "      <td>122924</td>\n",
       "      <td>X-Men: Apocalypse (2016)</td>\n",
       "      <td>1</td>\n",
       "      <td>5.000000</td>\n",
       "    </tr>\n",
       "    <tr>\n",
       "      <th>290</th>\n",
       "      <td>332</td>\n",
       "      <td>Village of the Damned (1995)</td>\n",
       "      <td>1</td>\n",
       "      <td>5.000000</td>\n",
       "    </tr>\n",
       "    <tr>\n",
       "      <th>483</th>\n",
       "      <td>551</td>\n",
       "      <td>Nightmare Before Christmas, The (1993)</td>\n",
       "      <td>1</td>\n",
       "      <td>5.000000</td>\n",
       "    </tr>\n",
       "    <tr>\n",
       "      <th>260</th>\n",
       "      <td>300</td>\n",
       "      <td>Quiz Show (1994)</td>\n",
       "      <td>1</td>\n",
       "      <td>5.000000</td>\n",
       "    </tr>\n",
       "    <tr>\n",
       "      <th>9147</th>\n",
       "      <td>147376</td>\n",
       "      <td>Doctor Who: A Christmas Carol (2010)</td>\n",
       "      <td>1</td>\n",
       "      <td>5.000000</td>\n",
       "    </tr>\n",
       "    <tr>\n",
       "      <th>8729</th>\n",
       "      <td>127098</td>\n",
       "      <td>Louis C.K.: Live at The Comedy Store (2015)</td>\n",
       "      <td>5</td>\n",
       "      <td>4.900000</td>\n",
       "    </tr>\n",
       "    <tr>\n",
       "      <th>4034</th>\n",
       "      <td>5710</td>\n",
       "      <td>Banana Joe (1981)</td>\n",
       "      <td>8</td>\n",
       "      <td>4.750000</td>\n",
       "    </tr>\n",
       "    <tr>\n",
       "      <th>2270</th>\n",
       "      <td>3013</td>\n",
       "      <td>Bride of Re-Animator (1990)</td>\n",
       "      <td>8</td>\n",
       "      <td>4.750000</td>\n",
       "    </tr>\n",
       "    <tr>\n",
       "      <th>2273</th>\n",
       "      <td>3016</td>\n",
       "      <td>Creepshow (1982)</td>\n",
       "      <td>2</td>\n",
       "      <td>4.750000</td>\n",
       "    </tr>\n",
       "    <tr>\n",
       "      <th>9154</th>\n",
       "      <td>147662</td>\n",
       "      <td>Return of the One-Armed Swordsman (1969)</td>\n",
       "      <td>2</td>\n",
       "      <td>4.750000</td>\n",
       "    </tr>\n",
       "    <tr>\n",
       "      <th>9141</th>\n",
       "      <td>147300</td>\n",
       "      <td>Adventures Of Sherlock Holmes And Dr. Watson: ...</td>\n",
       "      <td>2</td>\n",
       "      <td>4.750000</td>\n",
       "    </tr>\n",
       "    <tr>\n",
       "      <th>2123</th>\n",
       "      <td>2820</td>\n",
       "      <td>Hamlet (1964)</td>\n",
       "      <td>2</td>\n",
       "      <td>4.750000</td>\n",
       "    </tr>\n",
       "    <tr>\n",
       "      <th>9143</th>\n",
       "      <td>147328</td>\n",
       "      <td>The Adventures of Sherlock Holmes and Dr. Wats...</td>\n",
       "      <td>4</td>\n",
       "      <td>4.750000</td>\n",
       "    </tr>\n",
       "    <tr>\n",
       "      <th>6427</th>\n",
       "      <td>51498</td>\n",
       "      <td>2001 Maniacs (2005)</td>\n",
       "      <td>3</td>\n",
       "      <td>4.666667</td>\n",
       "    </tr>\n",
       "    <tr>\n",
       "      <th>3216</th>\n",
       "      <td>4343</td>\n",
       "      <td>Evolution (2001)</td>\n",
       "      <td>3</td>\n",
       "      <td>4.666667</td>\n",
       "    </tr>\n",
       "  </tbody>\n",
       "</table>\n",
       "</div>"
      ],
      "text/plain": [
       "      movieId                                              title  countVotes  \\\n",
       "8658   120919                           Man on High Heels (2014)           2   \n",
       "9414   165529                        Flowers for Algernon (2000)           1   \n",
       "294       336                           Walking Dead, The (1995)           1   \n",
       "8686   122892                     Avengers: Age of Ultron (2015)           1   \n",
       "9407   165101                                     Inferno (2016)           1   \n",
       "8698   122924                           X-Men: Apocalypse (2016)           1   \n",
       "290       332                       Village of the Damned (1995)           1   \n",
       "483       551             Nightmare Before Christmas, The (1993)           1   \n",
       "260       300                                   Quiz Show (1994)           1   \n",
       "9147   147376               Doctor Who: A Christmas Carol (2010)           1   \n",
       "8729   127098        Louis C.K.: Live at The Comedy Store (2015)           5   \n",
       "4034     5710                                  Banana Joe (1981)           8   \n",
       "2270     3013                        Bride of Re-Animator (1990)           8   \n",
       "2273     3016                                   Creepshow (1982)           2   \n",
       "9154   147662           Return of the One-Armed Swordsman (1969)           2   \n",
       "9141   147300  Adventures Of Sherlock Holmes And Dr. Watson: ...           2   \n",
       "2123     2820                                      Hamlet (1964)           2   \n",
       "9143   147328  The Adventures of Sherlock Holmes and Dr. Wats...           4   \n",
       "6427    51498                                2001 Maniacs (2005)           3   \n",
       "3216     4343                                   Evolution (2001)           3   \n",
       "\n",
       "      averageVotes  \n",
       "8658      5.000000  \n",
       "9414      5.000000  \n",
       "294       5.000000  \n",
       "8686      5.000000  \n",
       "9407      5.000000  \n",
       "8698      5.000000  \n",
       "290       5.000000  \n",
       "483       5.000000  \n",
       "260       5.000000  \n",
       "9147      5.000000  \n",
       "8729      4.900000  \n",
       "4034      4.750000  \n",
       "2270      4.750000  \n",
       "2273      4.750000  \n",
       "9154      4.750000  \n",
       "9141      4.750000  \n",
       "2123      4.750000  \n",
       "9143      4.750000  \n",
       "6427      4.666667  \n",
       "3216      4.666667  "
      ]
     },
     "execution_count": 10,
     "metadata": {},
     "output_type": "execute_result"
    }
   ],
   "source": [
    "movies_votes_df.sort_values(by='averageVotes', ascending=False).head(20)"
   ]
  },
  {
   "cell_type": "code",
   "execution_count": 11,
   "id": "8186d5b1",
   "metadata": {},
   "outputs": [
    {
     "data": {
      "text/html": [
       "<div>\n",
       "<style scoped>\n",
       "    .dataframe tbody tr th:only-of-type {\n",
       "        vertical-align: middle;\n",
       "    }\n",
       "\n",
       "    .dataframe tbody tr th {\n",
       "        vertical-align: top;\n",
       "    }\n",
       "\n",
       "    .dataframe thead th {\n",
       "        text-align: right;\n",
       "    }\n",
       "</style>\n",
       "<table border=\"1\" class=\"dataframe\">\n",
       "  <thead>\n",
       "    <tr style=\"text-align: right;\">\n",
       "      <th></th>\n",
       "      <th>movieId</th>\n",
       "      <th>title</th>\n",
       "      <th>countVotes</th>\n",
       "      <th>averageVotes</th>\n",
       "    </tr>\n",
       "  </thead>\n",
       "  <tbody>\n",
       "    <tr>\n",
       "      <th>2339</th>\n",
       "      <td>3097</td>\n",
       "      <td>Shop Around the Corner, The (1940)</td>\n",
       "      <td>329</td>\n",
       "      <td>4.164134</td>\n",
       "    </tr>\n",
       "    <tr>\n",
       "      <th>6518</th>\n",
       "      <td>53972</td>\n",
       "      <td>Live Free or Die Hard (2007)</td>\n",
       "      <td>329</td>\n",
       "      <td>4.164134</td>\n",
       "    </tr>\n",
       "    <tr>\n",
       "      <th>9175</th>\n",
       "      <td>149011</td>\n",
       "      <td>He Never Died (2015)</td>\n",
       "      <td>329</td>\n",
       "      <td>4.164134</td>\n",
       "    </tr>\n",
       "    <tr>\n",
       "      <th>7118</th>\n",
       "      <td>71033</td>\n",
       "      <td>Secret in Their Eyes, The (El secreto de sus o...</td>\n",
       "      <td>329</td>\n",
       "      <td>4.164134</td>\n",
       "    </tr>\n",
       "    <tr>\n",
       "      <th>1801</th>\n",
       "      <td>2401</td>\n",
       "      <td>Pale Rider (1985)</td>\n",
       "      <td>329</td>\n",
       "      <td>4.164134</td>\n",
       "    </tr>\n",
       "    <tr>\n",
       "      <th>1678</th>\n",
       "      <td>2259</td>\n",
       "      <td>Blame It on Rio (1984)</td>\n",
       "      <td>329</td>\n",
       "      <td>4.164134</td>\n",
       "    </tr>\n",
       "    <tr>\n",
       "      <th>7093</th>\n",
       "      <td>70305</td>\n",
       "      <td>Race to Witch Mountain (2009)</td>\n",
       "      <td>329</td>\n",
       "      <td>4.164134</td>\n",
       "    </tr>\n",
       "    <tr>\n",
       "      <th>1578</th>\n",
       "      <td>2117</td>\n",
       "      <td>1984 (Nineteen Eighty-Four) (1984)</td>\n",
       "      <td>329</td>\n",
       "      <td>4.164134</td>\n",
       "    </tr>\n",
       "    <tr>\n",
       "      <th>1445</th>\n",
       "      <td>1968</td>\n",
       "      <td>Breakfast Club, The (1985)</td>\n",
       "      <td>329</td>\n",
       "      <td>4.164134</td>\n",
       "    </tr>\n",
       "    <tr>\n",
       "      <th>1409</th>\n",
       "      <td>1929</td>\n",
       "      <td>Grand Hotel (1932)</td>\n",
       "      <td>329</td>\n",
       "      <td>4.164134</td>\n",
       "    </tr>\n",
       "    <tr>\n",
       "      <th>1273</th>\n",
       "      <td>1688</td>\n",
       "      <td>Anastasia (1997)</td>\n",
       "      <td>329</td>\n",
       "      <td>4.164134</td>\n",
       "    </tr>\n",
       "    <tr>\n",
       "      <th>1120</th>\n",
       "      <td>1460</td>\n",
       "      <td>That Darn Cat (1997)</td>\n",
       "      <td>329</td>\n",
       "      <td>4.164134</td>\n",
       "    </tr>\n",
       "    <tr>\n",
       "      <th>6374</th>\n",
       "      <td>50003</td>\n",
       "      <td>DOA: Dead or Alive (2006)</td>\n",
       "      <td>329</td>\n",
       "      <td>4.164134</td>\n",
       "    </tr>\n",
       "    <tr>\n",
       "      <th>1053</th>\n",
       "      <td>1370</td>\n",
       "      <td>Die Hard 2 (1990)</td>\n",
       "      <td>329</td>\n",
       "      <td>4.164134</td>\n",
       "    </tr>\n",
       "    <tr>\n",
       "      <th>880</th>\n",
       "      <td>1175</td>\n",
       "      <td>Delicatessen (1991)</td>\n",
       "      <td>329</td>\n",
       "      <td>4.164134</td>\n",
       "    </tr>\n",
       "    <tr>\n",
       "      <th>6925</th>\n",
       "      <td>64695</td>\n",
       "      <td>Sword of the Stranger (Sutorejia: Mukô hadan) ...</td>\n",
       "      <td>329</td>\n",
       "      <td>4.164134</td>\n",
       "    </tr>\n",
       "    <tr>\n",
       "      <th>9476</th>\n",
       "      <td>168712</td>\n",
       "      <td>Fifty Shades Darker (2017)</td>\n",
       "      <td>329</td>\n",
       "      <td>4.164134</td>\n",
       "    </tr>\n",
       "    <tr>\n",
       "      <th>5926</th>\n",
       "      <td>33893</td>\n",
       "      <td>Perfect Crime, The (Crimen Ferpecto) (Ferpect ...</td>\n",
       "      <td>329</td>\n",
       "      <td>4.164134</td>\n",
       "    </tr>\n",
       "    <tr>\n",
       "      <th>8800</th>\n",
       "      <td>130450</td>\n",
       "      <td>Pan (2015)</td>\n",
       "      <td>329</td>\n",
       "      <td>4.164134</td>\n",
       "    </tr>\n",
       "    <tr>\n",
       "      <th>5665</th>\n",
       "      <td>27618</td>\n",
       "      <td>Sound of Thunder, A (2005)</td>\n",
       "      <td>329</td>\n",
       "      <td>4.164134</td>\n",
       "    </tr>\n",
       "    <tr>\n",
       "      <th>8078</th>\n",
       "      <td>99750</td>\n",
       "      <td>Iceman, The (2012)</td>\n",
       "      <td>329</td>\n",
       "      <td>4.164134</td>\n",
       "    </tr>\n",
       "    <tr>\n",
       "      <th>4771</th>\n",
       "      <td>7102</td>\n",
       "      <td>Dragnet (1987)</td>\n",
       "      <td>329</td>\n",
       "      <td>4.164134</td>\n",
       "    </tr>\n",
       "    <tr>\n",
       "      <th>7947</th>\n",
       "      <td>95873</td>\n",
       "      <td>Ruby Sparks (2012)</td>\n",
       "      <td>329</td>\n",
       "      <td>4.164134</td>\n",
       "    </tr>\n",
       "    <tr>\n",
       "      <th>4223</th>\n",
       "      <td>6143</td>\n",
       "      <td>Trail of the Pink Panther (1982)</td>\n",
       "      <td>329</td>\n",
       "      <td>4.164134</td>\n",
       "    </tr>\n",
       "    <tr>\n",
       "      <th>8018</th>\n",
       "      <td>97860</td>\n",
       "      <td>Killing Them Softly (2012)</td>\n",
       "      <td>329</td>\n",
       "      <td>4.164134</td>\n",
       "    </tr>\n",
       "    <tr>\n",
       "      <th>4070</th>\n",
       "      <td>5802</td>\n",
       "      <td>World of Henry Orient, The (1964)</td>\n",
       "      <td>329</td>\n",
       "      <td>4.164134</td>\n",
       "    </tr>\n",
       "    <tr>\n",
       "      <th>4052</th>\n",
       "      <td>5768</td>\n",
       "      <td>Modern Problems (1981)</td>\n",
       "      <td>329</td>\n",
       "      <td>4.164134</td>\n",
       "    </tr>\n",
       "    <tr>\n",
       "      <th>3910</th>\n",
       "      <td>5497</td>\n",
       "      <td>Our Man Flint (1965)</td>\n",
       "      <td>329</td>\n",
       "      <td>4.164134</td>\n",
       "    </tr>\n",
       "    <tr>\n",
       "      <th>8575</th>\n",
       "      <td>116897</td>\n",
       "      <td>Wild Tales (2014)</td>\n",
       "      <td>329</td>\n",
       "      <td>4.164134</td>\n",
       "    </tr>\n",
       "    <tr>\n",
       "      <th>5069</th>\n",
       "      <td>7951</td>\n",
       "      <td>Nightbreed (1990)</td>\n",
       "      <td>329</td>\n",
       "      <td>4.164134</td>\n",
       "    </tr>\n",
       "    <tr>\n",
       "      <th>3666</th>\n",
       "      <td>5048</td>\n",
       "      <td>Snow Dogs (2002)</td>\n",
       "      <td>329</td>\n",
       "      <td>4.164134</td>\n",
       "    </tr>\n",
       "    <tr>\n",
       "      <th>5193</th>\n",
       "      <td>8454</td>\n",
       "      <td>Luna Papa (1999)</td>\n",
       "      <td>329</td>\n",
       "      <td>4.164134</td>\n",
       "    </tr>\n",
       "    <tr>\n",
       "      <th>5367</th>\n",
       "      <td>8951</td>\n",
       "      <td>Vera Drake (2004)</td>\n",
       "      <td>329</td>\n",
       "      <td>4.164134</td>\n",
       "    </tr>\n",
       "    <tr>\n",
       "      <th>3233</th>\n",
       "      <td>4369</td>\n",
       "      <td>Fast and the Furious, The (2001)</td>\n",
       "      <td>329</td>\n",
       "      <td>4.164134</td>\n",
       "    </tr>\n",
       "    <tr>\n",
       "      <th>5417</th>\n",
       "      <td>25833</td>\n",
       "      <td>Camille (1936)</td>\n",
       "      <td>329</td>\n",
       "      <td>4.164134</td>\n",
       "    </tr>\n",
       "    <tr>\n",
       "      <th>725</th>\n",
       "      <td>945</td>\n",
       "      <td>Top Hat (1935)</td>\n",
       "      <td>329</td>\n",
       "      <td>4.164134</td>\n",
       "    </tr>\n",
       "    <tr>\n",
       "      <th>7785</th>\n",
       "      <td>91869</td>\n",
       "      <td>Being Elmo: A Puppeteer's Journey (2011)</td>\n",
       "      <td>329</td>\n",
       "      <td>4.164134</td>\n",
       "    </tr>\n",
       "    <tr>\n",
       "      <th>20</th>\n",
       "      <td>21</td>\n",
       "      <td>Get Shorty (1995)</td>\n",
       "      <td>329</td>\n",
       "      <td>4.164134</td>\n",
       "    </tr>\n",
       "    <tr>\n",
       "      <th>7117</th>\n",
       "      <td>70994</td>\n",
       "      <td>Halloween II (2009)</td>\n",
       "      <td>317</td>\n",
       "      <td>4.429022</td>\n",
       "    </tr>\n",
       "    <tr>\n",
       "      <th>6924</th>\n",
       "      <td>64622</td>\n",
       "      <td>Reader, The (2008)</td>\n",
       "      <td>317</td>\n",
       "      <td>4.429022</td>\n",
       "    </tr>\n",
       "  </tbody>\n",
       "</table>\n",
       "</div>"
      ],
      "text/plain": [
       "      movieId                                              title  countVotes  \\\n",
       "2339     3097                 Shop Around the Corner, The (1940)         329   \n",
       "6518    53972                       Live Free or Die Hard (2007)         329   \n",
       "9175   149011                               He Never Died (2015)         329   \n",
       "7118    71033  Secret in Their Eyes, The (El secreto de sus o...         329   \n",
       "1801     2401                                  Pale Rider (1985)         329   \n",
       "1678     2259                             Blame It on Rio (1984)         329   \n",
       "7093    70305                      Race to Witch Mountain (2009)         329   \n",
       "1578     2117                 1984 (Nineteen Eighty-Four) (1984)         329   \n",
       "1445     1968                         Breakfast Club, The (1985)         329   \n",
       "1409     1929                                 Grand Hotel (1932)         329   \n",
       "1273     1688                                   Anastasia (1997)         329   \n",
       "1120     1460                               That Darn Cat (1997)         329   \n",
       "6374    50003                          DOA: Dead or Alive (2006)         329   \n",
       "1053     1370                                  Die Hard 2 (1990)         329   \n",
       "880      1175                                Delicatessen (1991)         329   \n",
       "6925    64695  Sword of the Stranger (Sutorejia: Mukô hadan) ...         329   \n",
       "9476   168712                         Fifty Shades Darker (2017)         329   \n",
       "5926    33893  Perfect Crime, The (Crimen Ferpecto) (Ferpect ...         329   \n",
       "8800   130450                                         Pan (2015)         329   \n",
       "5665    27618                         Sound of Thunder, A (2005)         329   \n",
       "8078    99750                                 Iceman, The (2012)         329   \n",
       "4771     7102                                     Dragnet (1987)         329   \n",
       "7947    95873                                 Ruby Sparks (2012)         329   \n",
       "4223     6143                   Trail of the Pink Panther (1982)         329   \n",
       "8018    97860                         Killing Them Softly (2012)         329   \n",
       "4070     5802                  World of Henry Orient, The (1964)         329   \n",
       "4052     5768                             Modern Problems (1981)         329   \n",
       "3910     5497                               Our Man Flint (1965)         329   \n",
       "8575   116897                                  Wild Tales (2014)         329   \n",
       "5069     7951                                  Nightbreed (1990)         329   \n",
       "3666     5048                                   Snow Dogs (2002)         329   \n",
       "5193     8454                                   Luna Papa (1999)         329   \n",
       "5367     8951                                  Vera Drake (2004)         329   \n",
       "3233     4369                   Fast and the Furious, The (2001)         329   \n",
       "5417    25833                                     Camille (1936)         329   \n",
       "725       945                                     Top Hat (1935)         329   \n",
       "7785    91869           Being Elmo: A Puppeteer's Journey (2011)         329   \n",
       "20         21                                  Get Shorty (1995)         329   \n",
       "7117    70994                                Halloween II (2009)         317   \n",
       "6924    64622                                 Reader, The (2008)         317   \n",
       "\n",
       "      averageVotes  \n",
       "2339      4.164134  \n",
       "6518      4.164134  \n",
       "9175      4.164134  \n",
       "7118      4.164134  \n",
       "1801      4.164134  \n",
       "1678      4.164134  \n",
       "7093      4.164134  \n",
       "1578      4.164134  \n",
       "1445      4.164134  \n",
       "1409      4.164134  \n",
       "1273      4.164134  \n",
       "1120      4.164134  \n",
       "6374      4.164134  \n",
       "1053      4.164134  \n",
       "880       4.164134  \n",
       "6925      4.164134  \n",
       "9476      4.164134  \n",
       "5926      4.164134  \n",
       "8800      4.164134  \n",
       "5665      4.164134  \n",
       "8078      4.164134  \n",
       "4771      4.164134  \n",
       "7947      4.164134  \n",
       "4223      4.164134  \n",
       "8018      4.164134  \n",
       "4070      4.164134  \n",
       "4052      4.164134  \n",
       "3910      4.164134  \n",
       "8575      4.164134  \n",
       "5069      4.164134  \n",
       "3666      4.164134  \n",
       "5193      4.164134  \n",
       "5367      4.164134  \n",
       "3233      4.164134  \n",
       "5417      4.164134  \n",
       "725       4.164134  \n",
       "7785      4.164134  \n",
       "20        4.164134  \n",
       "7117      4.429022  \n",
       "6924      4.429022  "
      ]
     },
     "execution_count": 11,
     "metadata": {},
     "output_type": "execute_result"
    }
   ],
   "source": [
    "movies_votes_df.sort_values(by='countVotes', ascending=False).head(40)"
   ]
  },
  {
   "cell_type": "markdown",
   "id": "32e8107f",
   "metadata": {},
   "source": [
    "### Grafički prikaz zavisnosti prosečne ocene filma od broja dobijenih ocena"
   ]
  },
  {
   "cell_type": "code",
   "execution_count": 12,
   "id": "c12a4250",
   "metadata": {},
   "outputs": [
    {
     "data": {
      "text/plain": [
       "Text(0, 0.5, 'Broj dobijenih ocena')"
      ]
     },
     "execution_count": 12,
     "metadata": {},
     "output_type": "execute_result"
    },
    {
     "data": {
      "image/png": "[encoded data removed]",
      "text/plain": [
       "<Figure size 432x288 with 1 Axes>"
      ]
     },
     "metadata": {},
     "output_type": "display_data"
    }
   ],
   "source": [
    "plt.scatter(np.array(movies_votes_df['averageVotes']), np.array(movies_votes_df['countVotes']), color = 'cadetblue')\n",
    "plt.xlabel('Prosecna ocena filma')\n",
    "plt.ylabel('Broj dobijenih ocena')"
   ]
  },
  {
   "cell_type": "markdown",
   "id": "eb41349c",
   "metadata": {},
   "source": [
    "### Broj jedinstvenih korisnika, filmova, ocena"
   ]
  },
  {
   "cell_type": "code",
   "execution_count": 13,
   "id": "122ab295",
   "metadata": {},
   "outputs": [
    {
     "name": "stdout",
     "output_type": "stream",
     "text": [
      "Postoji 610 jedinstvenih korisnika i 9724 jedinstvenih filmova u ovom skupu podataka.\n"
     ]
    }
   ],
   "source": [
    "num_users = len(ratings_df.userId.unique())\n",
    "num_items = len(ratings_df.movieId.unique())\n",
    "print('Postoji {} jedinstvenih korisnika i {} jedinstvenih filmova u ovom skupu podataka.'.format(num_users, num_items))"
   ]
  },
  {
   "cell_type": "code",
   "execution_count": 14,
   "id": "64fd4e2c",
   "metadata": {},
   "outputs": [
    {
     "data": {
      "text/html": [
       "<div>\n",
       "<style scoped>\n",
       "    .dataframe tbody tr th:only-of-type {\n",
       "        vertical-align: middle;\n",
       "    }\n",
       "\n",
       "    .dataframe tbody tr th {\n",
       "        vertical-align: top;\n",
       "    }\n",
       "\n",
       "    .dataframe thead th {\n",
       "        text-align: right;\n",
       "    }\n",
       "</style>\n",
       "<table border=\"1\" class=\"dataframe\">\n",
       "  <thead>\n",
       "    <tr style=\"text-align: right;\">\n",
       "      <th></th>\n",
       "      <th>count</th>\n",
       "    </tr>\n",
       "    <tr>\n",
       "      <th>rating</th>\n",
       "      <th></th>\n",
       "    </tr>\n",
       "  </thead>\n",
       "  <tbody>\n",
       "    <tr>\n",
       "      <th>0.5</th>\n",
       "      <td>1370</td>\n",
       "    </tr>\n",
       "    <tr>\n",
       "      <th>1.0</th>\n",
       "      <td>2811</td>\n",
       "    </tr>\n",
       "    <tr>\n",
       "      <th>1.5</th>\n",
       "      <td>1791</td>\n",
       "    </tr>\n",
       "    <tr>\n",
       "      <th>2.0</th>\n",
       "      <td>7551</td>\n",
       "    </tr>\n",
       "    <tr>\n",
       "      <th>2.5</th>\n",
       "      <td>5550</td>\n",
       "    </tr>\n",
       "    <tr>\n",
       "      <th>3.0</th>\n",
       "      <td>20047</td>\n",
       "    </tr>\n",
       "    <tr>\n",
       "      <th>3.5</th>\n",
       "      <td>13136</td>\n",
       "    </tr>\n",
       "    <tr>\n",
       "      <th>4.0</th>\n",
       "      <td>26818</td>\n",
       "    </tr>\n",
       "    <tr>\n",
       "      <th>4.5</th>\n",
       "      <td>8551</td>\n",
       "    </tr>\n",
       "    <tr>\n",
       "      <th>5.0</th>\n",
       "      <td>13211</td>\n",
       "    </tr>\n",
       "  </tbody>\n",
       "</table>\n",
       "</div>"
      ],
      "text/plain": [
       "        count\n",
       "rating       \n",
       "0.5      1370\n",
       "1.0      2811\n",
       "1.5      1791\n",
       "2.0      7551\n",
       "2.5      5550\n",
       "3.0     20047\n",
       "3.5     13136\n",
       "4.0     26818\n",
       "4.5      8551\n",
       "5.0     13211"
      ]
     },
     "execution_count": 14,
     "metadata": {},
     "output_type": "execute_result"
    }
   ],
   "source": [
    "df_ratings_count = pd.DataFrame(ratings_df.groupby('rating').size(), columns=['count'])\n",
    "df_ratings_count"
   ]
  },
  {
   "cell_type": "code",
   "execution_count": 15,
   "id": "d48b6281",
   "metadata": {},
   "outputs": [
    {
     "name": "stdout",
     "output_type": "stream",
     "text": [
      "Postoji 100836 jedinstvenih (eng. unique) ocena u ovom skupu podataka.\n"
     ]
    }
   ],
   "source": [
    "ratings_df.shape\n",
    "print('Postoji {} jedinstvenih (eng. unique) ocena u ovom skupu podataka.'.format(ratings_df.shape[0]))"
   ]
  },
  {
   "cell_type": "markdown",
   "id": "7cdf866e",
   "metadata": {},
   "source": [
    "### Najmanja i najveća dodeljena ocena"
   ]
  },
  {
   "cell_type": "code",
   "execution_count": 16,
   "id": "dfbd26cb",
   "metadata": {},
   "outputs": [
    {
     "name": "stdout",
     "output_type": "stream",
     "text": [
      "Skala ocena: od  0.5  do  5.0\n"
     ]
    }
   ],
   "source": [
    "ratings_min = ratings_df['rating'].min()\n",
    "ratings_max = ratings_df['rating'].max()\n",
    "print('Skala ocena: od ', ratings_min, ' do ', ratings_max) #TODO"
   ]
  },
  {
   "cell_type": "markdown",
   "id": "02c8955c",
   "metadata": {},
   "source": [
    "### Broj nedostajućih ocena"
   ]
  },
  {
   "cell_type": "code",
   "execution_count": 17,
   "id": "264a173e",
   "metadata": {},
   "outputs": [
    {
     "data": {
      "text/plain": [
       "5931640"
      ]
     },
     "execution_count": 17,
     "metadata": {},
     "output_type": "execute_result"
    }
   ],
   "source": [
    "# U ratings_df su samo redovi kod kojih je rating > 0.\n",
    "# Ukoliko se od svih mogucih kombinacija userId x movieId\n",
    "# oduzme broj redova u ratings_fd, dobice se vrednost koja\n",
    "# prestavlja koliko ima parova korisnik, film koji nije ocenjen,\n",
    "# odnosno koliko ima ocena 0.\n",
    "\n",
    "total_count = num_users * num_items\n",
    "total_count"
   ]
  },
  {
   "cell_type": "code",
   "execution_count": 18,
   "id": "182aba1b",
   "metadata": {},
   "outputs": [
    {
     "data": {
      "text/html": [
       "<div>\n",
       "<style scoped>\n",
       "    .dataframe tbody tr th:only-of-type {\n",
       "        vertical-align: middle;\n",
       "    }\n",
       "\n",
       "    .dataframe tbody tr th {\n",
       "        vertical-align: top;\n",
       "    }\n",
       "\n",
       "    .dataframe thead th {\n",
       "        text-align: right;\n",
       "    }\n",
       "</style>\n",
       "<table border=\"1\" class=\"dataframe\">\n",
       "  <thead>\n",
       "    <tr style=\"text-align: right;\">\n",
       "      <th></th>\n",
       "      <th>count</th>\n",
       "    </tr>\n",
       "  </thead>\n",
       "  <tbody>\n",
       "    <tr>\n",
       "      <th>0.0</th>\n",
       "      <td>5830804</td>\n",
       "    </tr>\n",
       "    <tr>\n",
       "      <th>0.5</th>\n",
       "      <td>1370</td>\n",
       "    </tr>\n",
       "    <tr>\n",
       "      <th>1.0</th>\n",
       "      <td>2811</td>\n",
       "    </tr>\n",
       "    <tr>\n",
       "      <th>1.5</th>\n",
       "      <td>1791</td>\n",
       "    </tr>\n",
       "    <tr>\n",
       "      <th>2.0</th>\n",
       "      <td>7551</td>\n",
       "    </tr>\n",
       "    <tr>\n",
       "      <th>2.5</th>\n",
       "      <td>5550</td>\n",
       "    </tr>\n",
       "    <tr>\n",
       "      <th>3.0</th>\n",
       "      <td>20047</td>\n",
       "    </tr>\n",
       "    <tr>\n",
       "      <th>3.5</th>\n",
       "      <td>13136</td>\n",
       "    </tr>\n",
       "    <tr>\n",
       "      <th>4.0</th>\n",
       "      <td>26818</td>\n",
       "    </tr>\n",
       "    <tr>\n",
       "      <th>4.5</th>\n",
       "      <td>8551</td>\n",
       "    </tr>\n",
       "    <tr>\n",
       "      <th>5.0</th>\n",
       "      <td>13211</td>\n",
       "    </tr>\n",
       "  </tbody>\n",
       "</table>\n",
       "</div>"
      ],
      "text/plain": [
       "       count\n",
       "0.0  5830804\n",
       "0.5     1370\n",
       "1.0     2811\n",
       "1.5     1791\n",
       "2.0     7551\n",
       "2.5     5550\n",
       "3.0    20047\n",
       "3.5    13136\n",
       "4.0    26818\n",
       "4.5     8551\n",
       "5.0    13211"
      ]
     },
     "execution_count": 18,
     "metadata": {},
     "output_type": "execute_result"
    }
   ],
   "source": [
    "rating_zero_count = total_count - ratings_df.shape[0]\n",
    "\n",
    "df_ratings_final_count = df_ratings_count.append(\n",
    "    pd.DataFrame({'count': rating_zero_count}, index=[0.0]),\n",
    "    verify_integrity=True,\n",
    ").sort_index()\n",
    "df_ratings_final_count"
   ]
  },
  {
   "cell_type": "code",
   "execution_count": 43,
   "id": "f30068cb",
   "metadata": {},
   "outputs": [
    {
     "data": {
      "text/html": [
       "<div>\n",
       "<style scoped>\n",
       "    .dataframe tbody tr th:only-of-type {\n",
       "        vertical-align: middle;\n",
       "    }\n",
       "\n",
       "    .dataframe tbody tr th {\n",
       "        vertical-align: top;\n",
       "    }\n",
       "\n",
       "    .dataframe thead th {\n",
       "        text-align: right;\n",
       "    }\n",
       "</style>\n",
       "<table border=\"1\" class=\"dataframe\">\n",
       "  <thead>\n",
       "    <tr style=\"text-align: right;\">\n",
       "      <th></th>\n",
       "      <th>count</th>\n",
       "      <th>log_count</th>\n",
       "    </tr>\n",
       "  </thead>\n",
       "  <tbody>\n",
       "    <tr>\n",
       "      <th>0.0</th>\n",
       "      <td>5830804</td>\n",
       "      <td>15.578665</td>\n",
       "    </tr>\n",
       "    <tr>\n",
       "      <th>0.5</th>\n",
       "      <td>1370</td>\n",
       "      <td>7.222566</td>\n",
       "    </tr>\n",
       "    <tr>\n",
       "      <th>1.0</th>\n",
       "      <td>2811</td>\n",
       "      <td>7.941296</td>\n",
       "    </tr>\n",
       "    <tr>\n",
       "      <th>1.5</th>\n",
       "      <td>1791</td>\n",
       "      <td>7.490529</td>\n",
       "    </tr>\n",
       "    <tr>\n",
       "      <th>2.0</th>\n",
       "      <td>7551</td>\n",
       "      <td>8.929435</td>\n",
       "    </tr>\n",
       "    <tr>\n",
       "      <th>2.5</th>\n",
       "      <td>5550</td>\n",
       "      <td>8.621553</td>\n",
       "    </tr>\n",
       "    <tr>\n",
       "      <th>3.0</th>\n",
       "      <td>20047</td>\n",
       "      <td>9.905835</td>\n",
       "    </tr>\n",
       "    <tr>\n",
       "      <th>3.5</th>\n",
       "      <td>13136</td>\n",
       "      <td>9.483112</td>\n",
       "    </tr>\n",
       "    <tr>\n",
       "      <th>4.0</th>\n",
       "      <td>26818</td>\n",
       "      <td>10.196829</td>\n",
       "    </tr>\n",
       "    <tr>\n",
       "      <th>4.5</th>\n",
       "      <td>8551</td>\n",
       "      <td>9.053804</td>\n",
       "    </tr>\n",
       "    <tr>\n",
       "      <th>5.0</th>\n",
       "      <td>13211</td>\n",
       "      <td>9.488805</td>\n",
       "    </tr>\n",
       "  </tbody>\n",
       "</table>\n",
       "</div>"
      ],
      "text/plain": [
       "       count  log_count\n",
       "0.0  5830804  15.578665\n",
       "0.5     1370   7.222566\n",
       "1.0     2811   7.941296\n",
       "1.5     1791   7.490529\n",
       "2.0     7551   8.929435\n",
       "2.5     5550   8.621553\n",
       "3.0    20047   9.905835\n",
       "3.5    13136   9.483112\n",
       "4.0    26818  10.196829\n",
       "4.5     8551   9.053804\n",
       "5.0    13211   9.488805"
      ]
     },
     "execution_count": 43,
     "metadata": {},
     "output_type": "execute_result"
    }
   ],
   "source": [
    "#log normalizacija podataka zbog lakse interpretacije na grafiku\n",
    "import numpy as np\n",
    "df_ratings_final_count['log_count'] = np.log(df_ratings_final_count['count'])\n",
    "df_ratings_final_count"
   ]
  },
  {
   "cell_type": "code",
   "execution_count": 20,
   "id": "a04d833d",
   "metadata": {},
   "outputs": [
    {
     "data": {
      "text/plain": [
       "Text(0, 0.5, 'broj glasova')"
      ]
     },
     "execution_count": 20,
     "metadata": {},
     "output_type": "execute_result"
    },
    {
     "data": {
      "image/png": "[encoded data removed]",
      "text/plain": [
       "<Figure size 864x576 with 1 Axes>"
      ]
     },
     "metadata": {},
     "output_type": "display_data"
    }
   ],
   "source": [
    "# %matplotlib inline\n",
    "ax = df_ratings_final_count[['count']].reset_index().rename(columns={'index': 'rating score'}).plot(\n",
    "    x='rating score',\n",
    "    y='count',\n",
    "    kind='bar',\n",
    "    figsize=(12, 8),\n",
    "    title='Ukupan broj glasova za svaku ocenu (u Log skali)',\n",
    "    logy=True,\n",
    "    fontsize=12,\n",
    "    color='olivedrab'\n",
    ")\n",
    "ax.set_xlabel(\"ocena filma\")\n",
    "ax.set_ylabel(\"broj glasova\")"
   ]
  },
  {
   "cell_type": "markdown",
   "id": "03c67583",
   "metadata": {},
   "source": [
    "### Učestalost glasova"
   ]
  },
  {
   "cell_type": "code",
   "execution_count": 18,
   "id": "37c380c1",
   "metadata": {},
   "outputs": [
    {
     "name": "stdout",
     "output_type": "stream",
     "text": [
      "         count\n",
      "movieId       \n",
      "1          215\n",
      "2          110\n",
      "3           52\n",
      "4            7\n",
      "5           49\n",
      "6          102\n",
      "7           54\n",
      "8            8\n",
      "9           16\n",
      "10         132\n",
      "(9724, 1)\n"
     ]
    }
   ],
   "source": [
    "# ucestalost glasova (ocena)\n",
    "# broj glasova za svaki film (id svakog filma)\n",
    "df_movies_count = pd.DataFrame(ratings_df.groupby('movieId').size(), columns=['count'])\n",
    "print(df_movies_count.head(10))\n",
    "print(df_movies_count.shape)"
   ]
  },
  {
   "cell_type": "code",
   "execution_count": 22,
   "id": "a333c5b4",
   "metadata": {},
   "outputs": [
    {
     "data": {
      "text/plain": [
       "array([[215],\n",
       "       [110],\n",
       "       [ 52],\n",
       "       ...,\n",
       "       [  1],\n",
       "       [  1],\n",
       "       [  1]])"
      ]
     },
     "execution_count": 22,
     "metadata": {},
     "output_type": "execute_result"
    }
   ],
   "source": [
    "df_movies_count.values"
   ]
  },
  {
   "cell_type": "code",
   "execution_count": 20,
   "id": "f6418cdb",
   "metadata": {},
   "outputs": [
    {
     "data": {
      "text/plain": [
       "[<matplotlib.lines.Line2D at 0x7f1552cc5490>]"
      ]
     },
     "execution_count": 20,
     "metadata": {},
     "output_type": "execute_result"
    },
    {
     "data": {
      "image/png": "[encoded data removed]",
      "text/plain": [
       "<Figure size 432x288 with 1 Axes>"
      ]
     },
     "metadata": {},
     "output_type": "display_data"
    }
   ],
   "source": [
    "list_movies_count = []\n",
    "\n",
    "for row in df_movies_count.values:\n",
    "    list_movies_count.append(row[0])\n",
    "\n",
    "array_movies_count = np.array(list_movies_count)\n",
    "\n",
    "plt.plot(array_movies_count, np.arange(len(list_movies_count)))\n",
    "#plt.bar(array_movies_count, np.arange(len(list_movies_count)))"
   ]
  },
  {
   "cell_type": "code",
   "execution_count": 21,
   "id": "58aa5b06",
   "metadata": {},
   "outputs": [
    {
     "data": {
      "text/plain": [
       "(array([8.946e+03, 4.990e+02, 1.410e+02, 7.200e+01, 2.800e+01, 1.800e+01,\n",
       "        1.200e+01, 3.000e+00, 2.000e+00, 3.000e+00]),\n",
       " array([  1. ,  33.8,  66.6,  99.4, 132.2, 165. , 197.8, 230.6, 263.4,\n",
       "        296.2, 329. ]),\n",
       " <BarContainer object of 10 artists>)"
      ]
     },
     "execution_count": 21,
     "metadata": {},
     "output_type": "execute_result"
    },
    {
     "data": {
      "image/png": "[encoded data removed]",
      "text/plain": [
       "<Figure size 432x288 with 1 Axes>"
      ]
     },
     "metadata": {},
     "output_type": "display_data"
    }
   ],
   "source": [
    "plt.hist(array_movies_count)"
   ]
  },
  {
   "cell_type": "code",
   "execution_count": 27,
   "id": "d29011b4",
   "metadata": {},
   "outputs": [
    {
     "data": {
      "text/plain": [
       "(9274, 3)"
      ]
     },
     "execution_count": 27,
     "metadata": {},
     "output_type": "execute_result"
    }
   ],
   "source": [
    "# provera\n",
    "len(df_movies_count.values[df_movies_count.values<50]), len(df_movies_count.values[df_movies_count.values>300])"
   ]
  },
  {
   "cell_type": "code",
   "execution_count": null,
   "id": "4545098d",
   "metadata": {},
   "outputs": [],
   "source": []
  }
 ],
 "metadata": {
  "kernelspec": {
   "display_name": "Python 3",
   "language": "python",
   "name": "python3"
  },
  "language_info": {
   "codemirror_mode": {
    "name": "ipython",
    "version": 3
   },
   "file_extension": ".py",
   "mimetype": "text/x-python",
   "name": "python",
   "nbconvert_exporter": "python",
   "pygments_lexer": "ipython3",
   "version": "3.8.8"
  }
 },
 "nbformat": 4,
 "nbformat_minor": 5
}
